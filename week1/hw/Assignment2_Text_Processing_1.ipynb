{
  "nbformat": 4,
  "nbformat_minor": 0,
  "metadata": {
    "colab": {
      "name": "Assignment2_Text_Processing_1.ipynb",
      "provenance": [],
      "collapsed_sections": []
    },
    "kernelspec": {
      "name": "python3",
      "display_name": "Python 3"
    },
    "accelerator": "GPU"
  },
  "cells": [
    {
      "cell_type": "markdown",
      "metadata": {
        "id": "1UL2tS-EQZKN"
      },
      "source": [
        "# Assignment 2. Text Processing I\n",
        "---\n"
      ]
    },
    {
      "cell_type": "markdown",
      "metadata": {
        "id": "F-nCnWRyQh2P"
      },
      "source": [
        "### **개요**\n",
        "\n",
        "본 과제에서는 string을 다루는 방법을 학습합니다. 다른 자료구조를 필요시에 사용하시면 됩니다. 본 과제에서 풀어야 할 문제는 아래 2가지가 있습니다."
      ]
    },
    {
      "cell_type": "markdown",
      "metadata": {
        "id": "pmmYk5KHsLGD"
      },
      "source": [
        "**함수 리스트**\n",
        "\n",
        "\n",
        "*   `normalize`: 인풋으로 받는 스트링에서 정규화된 스트링을 반환함. 아래의 요건들을 충족시켜야함\n",
        "  * 모든 단어들은 소문자로 되어야함\n",
        "  * 띄어쓰기는 한칸으로 되어야함\n",
        "  * 앞뒤 필요없는 띄어쓰기는 제거해야함\n",
        "\n",
        "- 위의 기능들은 하드코딩으로 구현하셔도 되지만, 실제로 문자열 처리에 많이 쓰이는 split과 join함수를 이용해서 구현해보시는 것도 좋을 것 같습니다 !\n",
        "\n",
        "    Parameters:\n",
        "        input_string (string): 영어로 된 대문자, 소문자, 띄어쓰기, 문장부호, 숫자로 이루어진 string\n",
        "        ex - \"This is an example.\", \"   EXTRA   SPACE   \"\n",
        "\n",
        "    Returns:\n",
        "        normalized_string (string): 위 요건을 충족시킨 정규회된 string\n",
        "        ex - 'this is an example.'\n",
        "\n",
        "    Examples:\n",
        "        >>> import text_processing as tp\n",
        "        >>> input_string1 = \"This is an example.\"\n",
        "        >>> tp.normalize(input_string1)\n",
        "        'this is an example.'\n",
        "        >>> input_string2 = \"   EXTRA   SPACE   \"\n",
        "        >>> tp.normalize(input_string2)\n",
        "        'extra space'"
      ]
    },
    {
      "cell_type": "markdown",
      "metadata": {
        "id": "SfZcJJ_nsoCv"
      },
      "source": [
        "*   `no_vowels`: 인풋으로 받는 스트링에서 모든 모음 (a, e, i, o, u)를 제거시킨 스트링을 반환함\n",
        "\n",
        "    Parameters:\n",
        "        input_string (string): 영어로 된 대문자, 소문자, 띄어쓰기, 문장부호로 이루어진 string\n",
        "        ex - \"This is an example.\"\n",
        "\n",
        "    Returns:\n",
        "        no_vowel_string (string): 모든 모음 (a, e, i, o, u)를 제거시킨 스트링\n",
        "        ex - \"Ths s n xmpl.\"\n",
        "\n",
        "    Examples:\n",
        "        >>> import text_processing as tp\n",
        "        >>> input_string1 = \"This is an example.\"\n",
        "        >>> tp.normalize(input_string1)\n",
        "        \"Ths s n xmpl.\"\n",
        "        >>> input_string2 = \"We love Python!\"\n",
        "        >>> tp.normalize(input_string2)\n",
        "        ''W lv Pythn!'"
      ]
    },
    {
      "cell_type": "markdown",
      "metadata": {
        "id": "HRkPd3SiYeY_"
      },
      "source": [
        "-----------"
      ]
    },
    {
      "cell_type": "markdown",
      "metadata": {
        "id": "GOCEPGWCYyj3"
      },
      "source": [
        "### **함수 작성하기**"
      ]
    },
    {
      "cell_type": "code",
      "metadata": {
        "id": "mk0RS6zas1zo"
      },
      "source": [
        "#######################\n",
        "# Test Processing I   #\n",
        "#######################\n",
        "\n",
        "\"\"\"\n",
        "NLP에서 흔히하는 전처리는 소문자 변환, 앞뒤 필요없는 띄어쓰기를 제거하는 등의 텍스트 정규화 (text normalization)입니다. \n",
        "이번 숙제에서는 텍스트 처리 방법을 파이썬으로 배워보겠습니다. \n",
        "\"\"\"\n",
        "\n",
        "\n",
        "def normalize(input_string):\n",
        "    \"\"\"\n",
        "     인풋으로 받는 스트링에서 정규화된 스트링을 반환함\n",
        "     아래의 요건들을 충족시켜야함\n",
        "    * 모든 단어들은 소문자로 되어야함\n",
        "    * 띄어쓰기는 한칸으로 되어야함\n",
        "    * 앞뒤 필요없는 띄어쓰기는 제거해야함\n",
        "         Parameters:\n",
        "             input_string (string): 영어로 된 대문자, 소문자, 띄어쓰기, 문장부호, 숫자로 이루어진 string\n",
        "             ex - \"This is an example.\", \"   EXTRA   SPACE   \"\n",
        "         Returns:\n",
        "             normalized_string (string): 위 요건을 충족시킨 정규회된 string\n",
        "             ex - 'this is an example.'\n",
        "         Examples:\n",
        "             >>> import text_processing as tp\n",
        "             >>> input_string1 = \"This is an example.\"\n",
        "             >>> tp.normalize(input_string1)\n",
        "             'this is an example.'\n",
        "             >>> input_string2 = \"   EXTRA   SPACE   \"\n",
        "             >>> tp.normalize(input_string2)\n",
        "             'extra space'\n",
        "    \"\"\"\n",
        "    normalized_string = \" \".join(input_string.lower().strip().split())\n",
        "    return normalized_string\n",
        "\n",
        "\n",
        "def no_vowels(input_string):\n",
        "    \"\"\"\n",
        "    인풋으로 받는 스트링에서 모든 모음 (a, e, i, o, u)를 제거시킨 스트링을 반환함\n",
        "        Parameters:\n",
        "            input_string (string): 영어로 된 대문자, 소문자, 띄어쓰기, 문장부호로 이루어진 string\n",
        "            ex - \"This is an example.\"\n",
        "        Returns:\n",
        "            no_vowel_string (string): 모든 모음 (a, e, i, o, u)를 제거시킨 스트링\n",
        "            ex - \"Ths s n xmpl.\"\n",
        "        Examples:\n",
        "            >>> import text_processing as tp\n",
        "            >>> input_string1 = \"This is an example.\"\n",
        "            >>> tp.normalize(input_string1)\n",
        "            \"Ths s n xmpl.\"\n",
        "            >>> input_string2 = \"We love Python!\"\n",
        "            >>> tp.normalize(input_string2)\n",
        "            ''W lv Pythn!'\n",
        "    \"\"\"\n",
        "    import re\n",
        "\n",
        "    no_vowel_string = re.sub(\"a|e|i|o|u|A|E|I|O|U\",\"\",input_string)\n",
        "    return no_vowel_string"
      ],
      "execution_count": 10,
      "outputs": []
    },
    {
      "cell_type": "code",
      "metadata": {
        "id": "TX2ZO5O8sKnJ"
      },
      "source": [
        "# -*- coding: utf8 -*-\n",
        "\n",
        "import unittest\n",
        "import random\n",
        "\n",
        "\n",
        "class TestTextProcessing(unittest.TestCase):\n",
        "    def test_normalize(self):\n",
        "        test_str = \"This is an example.\"\n",
        "        pred = normalize(test_str)\n",
        "        self.assertEqual(pred, \"this is an example.\")\n",
        "\n",
        "        test_str = \"   EXTRA   SPACE   \"\n",
        "        pred = normalize(test_str)\n",
        "        self.assertEqual(pred, \"extra space\")\n",
        "\n",
        "        test_str = \"THIS IS ALL CAPS!!\"\n",
        "        pred = normalize(test_str)\n",
        "        self.assertEqual(pred, \"this is all caps!!\")\n",
        "\n",
        "        test_str = \"                   \"\n",
        "        pred = normalize(test_str)\n",
        "        self.assertEqual(pred, \"\")\n",
        "\n",
        "        test_str = \"this is all lower space...\"\n",
        "        pred = normalize(test_str)\n",
        "        self.assertEqual(pred, \"this is all lower space...\")\n",
        "\n",
        "        test_str = \"  H  e  L    l   O   !\"\n",
        "        pred = normalize(test_str)\n",
        "        self.assertEqual(pred, \"h e l l o !\")\n",
        "\n",
        "        test_str = \"\"\n",
        "        pred = normalize(test_str)\n",
        "        self.assertEqual(pred, \"\")\n",
        "\n",
        "        test_str = \"........\"\n",
        "        pred = normalize(test_str)\n",
        "        self.assertEqual(pred, \"........\")\n",
        "\n",
        "        test_str = \"EX  A M P     LE\"\n",
        "        pred = normalize(test_str)\n",
        "        self.assertEqual(pred, \"ex a m p le\")\n",
        "\n",
        "        test_str = \"Test Text Normalization\"\n",
        "        pred = normalize(test_str)\n",
        "        self.assertEqual(pred, \"test text normalization\")\n",
        "\n",
        "        test_str = \"AbCd EfGh IjKl MnOp\"\n",
        "        pred = normalize(test_str)\n",
        "        self.assertEqual(pred, \"abcd efgh ijkl mnop\")\n",
        "\n",
        "    def test_no_vowels(self):\n",
        "        test_str = \"This is an example.\"\n",
        "        pred = no_vowels(test_str)\n",
        "        self.assertEqual(pred, \"Ths s n xmpl.\")\n",
        "\n",
        "        test_str = \"We love Python!\"\n",
        "        pred = no_vowels(test_str)\n",
        "        self.assertEqual(pred, \"W lv Pythn!\")\n",
        "\n",
        "        test_str = \"AEIOU\"\n",
        "        pred = no_vowels(test_str)\n",
        "        self.assertEqual(pred, \"\")\n",
        "\n",
        "        test_str = \"aeiou\"\n",
        "        pred = no_vowels(test_str)\n",
        "        self.assertEqual(pred, \"\")\n",
        "\n",
        "        test_str = \"QWERTY\"\n",
        "        pred = no_vowels(test_str)\n",
        "        self.assertEqual(pred, \"QWRTY\")\n",
        "\n",
        "        test_str = \"qwerty\"\n",
        "        pred = no_vowels(test_str)\n",
        "        self.assertEqual(pred, \"qwrty\")\n",
        "\n",
        "        test_str = \"AI for ALL!\"\n",
        "        pred = no_vowels(test_str)\n",
        "        self.assertEqual(pred, \" fr LL!\")\n",
        "\n",
        "        test_str = \"Are there any vowels?\"\n",
        "        pred = no_vowels(test_str)\n",
        "        self.assertEqual(pred, \"r thr ny vwls?\")\n",
        "\n",
        "        test_str = \"\"\n",
        "        pred = no_vowels(test_str)\n",
        "        self.assertEqual(pred, \"\")\n",
        "\n",
        "        test_str = \"abcdefghijklmnopqrstuvwxyz\"\n",
        "        pred = no_vowels(test_str)\n",
        "        self.assertEqual(pred, \"bcdfghjklmnpqrstvwxyz\")"
      ],
      "execution_count": 11,
      "outputs": []
    },
    {
      "cell_type": "markdown",
      "metadata": {
        "id": "stofanMeYpJz"
      },
      "source": [
        "### **Test Code**"
      ]
    },
    {
      "cell_type": "code",
      "metadata": {
        "colab": {
          "base_uri": "https://localhost:8080/"
        },
        "id": "ygN22f8veKEm",
        "outputId": "1519dc16-0ae3-4192-b1ab-14c6cf01c54d"
      },
      "source": [
        "ttp = TestTextProcessing()\n",
        "\n",
        "ttp.test_normalize()\n",
        "ttp.test_no_vowels()\n",
        "\n",
        "print(\"Congratulation!\")"
      ],
      "execution_count": 12,
      "outputs": [
        {
          "output_type": "stream",
          "text": [
            "Congratulation!\n"
          ],
          "name": "stdout"
        }
      ]
    }
  ]
}