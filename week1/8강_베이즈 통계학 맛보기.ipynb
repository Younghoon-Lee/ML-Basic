{
 "cells": [
  {
   "cell_type": "markdown",
   "id": "05a782aa",
   "metadata": {},
   "source": [
    ">조건부 확률이란?\n",
    "\n",
    "-베이즈 통계학을 이해하기 위해선 조건부확률의 개념을 이해해야 한다.\n",
    "\\begin{equation}\n",
    "P (A\\cap B) = P(B)P(A|B)\n",
    "\\end{equation}\n",
    "-베이즈 정리는 조건부확룔을 이용해서 **정보를 갱신하는 방법**을 알려준다.\n",
    "\\begin{equation}\n",
    "P(B|A)=\\frac{P(A\\cap B)}{P(A)} = P(B)  \\frac{P(A|B)}{P(A)}\n",
    "\\end{equation}\n",
    "    - $P(A)$와 $P(B)$ 그리고 $P(A|B)$를 갖고 $P(B|A)$를 도출해 낼 수 있다."
   ]
  },
  {
   "cell_type": "markdown",
   "id": "10618172",
   "metadata": {},
   "source": [
    "> 베이즈 정리: 예제\n",
    "\n",
    "\n",
    "\n",
    "\\begin{equation}\n",
    "P(\\theta |D) = P(\\theta) \\frac{P(D|\\theta)}{P(D)}\n",
    "\\end{equation}\n",
    "\n",
    "$P(\\theta|D)$ : 사후확률\n",
    "\n",
    "$P(\\theta)$ : 사전확률\n",
    "\n",
    "$P(D|\\theta)$ : 가능도\n",
    "\n",
    "$P(D)$: Evidence\n"
   ]
  }
 ],
 "metadata": {
  "kernelspec": {
   "display_name": "Python 3 (ipykernel)",
   "language": "python",
   "name": "python3"
  },
  "language_info": {
   "codemirror_mode": {
    "name": "ipython",
    "version": 3
   },
   "file_extension": ".py",
   "mimetype": "text/x-python",
   "name": "python",
   "nbconvert_exporter": "python",
   "pygments_lexer": "ipython3",
   "version": "3.8.7"
  }
 },
 "nbformat": 4,
 "nbformat_minor": 5
}
