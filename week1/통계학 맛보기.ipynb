{
 "cells": [
  {
   "cell_type": "markdown",
   "id": "9aedf753",
   "metadata": {},
   "source": [
    "> 모수가 뭐에요?\n",
    "\n",
    "- 통계적 모델링은 적정할 가정위에서 확률분포를 추정하는 것이 목표\n",
    "- 그러나 유한한 개수의 데이터만 관찰해서 모집단의 분포를 정확하게 알아낸다는 것은 불가능하므로, 근사적으로 확률분포를 추정할 수 밖에 없다.\n",
    "- 데이터가 특정 확률 분포를 따른다고 가정한 후 그 분포를 결정하는 모수를 추정하는 방법을 **모수적 방법론**이라고 한다.\n",
    "ex) 정규분포의 모수 - 평균, 분산 / 평균과 분산을 추정하는 방법론 -> **모수적 방법론**\n",
    "- 특정 확률분포를 가정 x , 데이터에 따라 모델의 구조, 개수가 유연하게 바뀌면 **비모수 방법론**이라고 한다.\n",
    "!) 비모수 방법론이라고 해서 모수를 쓰지 않는 것이 아니다. 사전의 가정 여부가 중요"
   ]
  },
  {
   "cell_type": "markdown",
   "id": "0732be2b",
   "metadata": {},
   "source": [
    "> 확률분포 가정하기\n",
    "\n",
    "- 확률분포를 가정하는 방법: 우선 히스토그램을 통해 모양을 관찰 \n",
    "- 기계적으로 확률분포를 가정해서는 안 되며, 데이터를 먼저 관찰한 후 어떤 확률분포가 적절한지 결정\n",
    "\n"
   ]
  },
  {
   "cell_type": "markdown",
   "id": "589abe94",
   "metadata": {},
   "source": [
    "> 데이터로 모수를 추정해보기\n",
    "\n",
    "- 정규분포의 모수는 평균 $\\mu$와 분산 $\\sigma^2$ 으로 이를 추정하는 통계량은 다음과 같다. \n",
    "\\begin{equation}\n",
    "\\overline{X} = \\frac{1}{N}\\sum_{i=1}^{N}X_i\\quad \\Large{표본평균}\n",
    "\\end{equation}\n",
    "\n",
    "\\begin{equation}\n",
    "S^2 = \\frac{1}{N-1}\\sum_{i=1}^{N}(X_i - overline{X})^2\\quad  \\Large{표본분산}\n",
    "\\end{equation}\n",
    "- 표본분산을 구할때 $N$이 아니라 $N-1$로 나누는 이유는 불편 추정량을 구하기 위해서이다. (표본분산이 모수인 모분산에 대해 치우침 없이 나타나게 하기 위해)\n",
    "- **통계량의 확률분포를 표집분포**라 부르며, 특히 표본평균의 표집분포는 N이 커질수록 정규분포를 따른다. ($\\sigma^2/N$이 표집분포의 표본분산인데, $N$이 커지면 0에 수렴하므로 정규분포의 모습을 띄게됨)\n",
    "- 표집분포와 표본분포는 서로 다른 것이므로 주의!\n",
    "    - **표본분표는 모집단에서 추출한 한 샘플의 분포를 말하는 것이고, 표집분포는 여러개 샘플들을 뽑아, 각 샘플의 평균에 대한 분포를 그린  것을 말한다.**\n",
    "\n",
    "\n",
    "\n"
   ]
  },
  {
   "cell_type": "markdown",
   "id": "5850be38",
   "metadata": {},
   "source": [
    "> 최대가능도 추정법\n",
    "\n",
    "- 표본평균이나 표본분산은 중요한 통계량이지만 확률분포마다 사용하는 모수가 다르므로 적절한 통계량이 달라지게 된다.\n",
    "- 이론적으로 가장 가능성이 높은 모수를 추정한느 방법중 하나는 최대가능도 추정법(maximum likelihood estimation, MLE)이다.\n",
    "\n",
    "\\begin{equation}\n",
    "\\hat{\\theta}_{MLE} = argmax L(\\theta ; X)\n",
    "\\end{equation}\n",
    "- 데이터 집합 X가 **독립적으로 추출되었을 경우 로그가능도를 최적화 한다.** (?)"
   ]
  }
 ],
 "metadata": {
  "kernelspec": {
   "display_name": "Python 3 (ipykernel)",
   "language": "python",
   "name": "python3"
  },
  "language_info": {
   "codemirror_mode": {
    "name": "ipython",
    "version": 3
   },
   "file_extension": ".py",
   "mimetype": "text/x-python",
   "name": "python",
   "nbconvert_exporter": "python",
   "pygments_lexer": "ipython3",
   "version": "3.8.7"
  }
 },
 "nbformat": 4,
 "nbformat_minor": 5
}
