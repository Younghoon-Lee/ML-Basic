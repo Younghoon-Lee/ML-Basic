{
  "nbformat": 4,
  "nbformat_minor": 0,
  "metadata": {
    "colab": {
      "name": "Assignment3_Text_Processing_II.ipynb",
      "provenance": [],
      "collapsed_sections": []
    },
    "kernelspec": {
      "name": "python3",
      "display_name": "Python 3"
    },
    "language_info": {
      "name": "python"
    }
  },
  "cells": [
    {
      "cell_type": "markdown",
      "metadata": {
        "id": "btubDX4jN5Ss"
      },
      "source": [
        "# Assignment 3. Text Processing 2\n",
        "---"
      ]
    },
    {
      "cell_type": "markdown",
      "metadata": {
        "id": "S3uPIl2rOYpf"
      },
      "source": [
        "### **개요**\n",
        "본 과제에서는 이전 과제에 이어서 string 다루는 방법을 학습합니다. 다른 자료구조를 필요시에 사용하시면 됩니다. 본 과제에서 풀어야 할 문제는 아래 2가지가 있습니다."
      ]
    },
    {
      "cell_type": "markdown",
      "metadata": {
        "id": "gUJ6hE-eOl2b"
      },
      "source": [
        "**함수 리스트**  \n",
        "\n",
        "\n",
        "\n",
        "- `digits_to_words`\n",
        "\n",
        "    - 인풋으로 받는 스트링에서 숫자만 추출하여 영어 단어로 변환하여 단어들이 연결된 스트링을 반환함. 아래의 요건들을 충족시켜야함\n",
        "    - 반환하는 단어들은 영어 소문자여야함\n",
        "    - 단어들 사이에는 띄어쓰기 한칸이 있음\n",
        "    - 만약 인풋 스트링에서 숫자가 존재하지 않는 다면, 빈 문자열 (empty string)을 반환함\n",
        "\n",
        "    Parameters:\n",
        "```\n",
        "        input_string (string): 영어로 된 대문자, 소문자, 띄어쓰기, 문장부호, 숫자로 이루어진 string\n",
        "        ex - \"Zip Code: 19104\"\n",
        "```\n",
        "    Returns:\n",
        "```\n",
        "        digit_string (string): 위 요건을 충족시킨 숫자만 영어단어로 추출된 string\n",
        "        ex - 'one nine one zero four'\n",
        "```\n",
        "    Examples:\n",
        "```\n",
        "        >>> digits_str1 = \"Zip Code: 19104\"\n",
        "        >>> digits_to_words(digits_str1)\n",
        "        'one nine one zero four'\n",
        "        >>> digits_str2 = \"Pi is 3.1415...\"\n",
        "        >>> digits_to_words(digits_str2)\n",
        "        'three one four one five'  \n",
        "```\n",
        "\n",
        "- `to_camel_case`  \n",
        "\n",
        "    - 컴퓨터 프로그래밍에 많은 명명 규칙이 있지만, 아래의 두 규칙이 특히 흔히 쓰임\n",
        "\n",
        "    - 첫번째로는, 변수 이름을 'underscore'로 나눠준다거나, (ex. under_score_variable)\n",
        "    - 두번째로는, 변수 이름을 대소문자 구별해 구분자 (delimiter)없이 쓰는 경우가 있음.\n",
        "        - 이 두번째의 경우에는 첫번째 단어는 소문자로, 그 후에 오는 단어들의 첫번째 글자들은 대문자로 쓰임 (ex. camelCaseVariable). \n",
        "\n",
        "    - 이 문제에서, 첫번째 규칙 'underscore variable' 에서 두번째 규칙 'camelcase variable'으로 변환함\n",
        "    - 앞과 뒤에 여러개의 'underscore'는 무시합니다.\n",
        "    - 만약 어떤 변수 이름이 underscore로만 이루어 진다면, 빈 문자열을 반환합니다.\n",
        "    - underscore case에는 변수 이름에 underscore가 존재하지 않는 경우도 포괄합니다.\n",
        "\n",
        "    Parameters:\n",
        "```\n",
        "underscore_str (string): underscore case를 따른 스트링\n",
        "```\n",
        "    Returns:\n",
        "```\n",
        "camelcase_str (string): camelcase를 따른 스트링\n",
        "```\n",
        "    Examples:\n",
        "```\n",
        "        >>> underscore_str1 = \"to_camel_case\"\n",
        "        >>> to_camel_case(underscore_str1)\n",
        "        'toCamelCase'\n",
        "        >>> underscore_str2 = \"__EXAMPLE__NAME__\"\n",
        "        >>> to_camel_case(underscore_str2)\n",
        "        'exampleName'\n",
        "```"
      ]
    },
    {
      "cell_type": "markdown",
      "metadata": {
        "id": "KQRzfou0d5kn"
      },
      "source": [
        "\n",
        "\n",
        "---\n",
        "\n"
      ]
    },
    {
      "cell_type": "markdown",
      "metadata": {
        "id": "JV2jw9ykd0J-"
      },
      "source": [
        "### **함수 작성하기**"
      ]
    },
    {
      "cell_type": "code",
      "metadata": {
        "id": "icBOiSdXOLlX"
      },
      "source": [
        "#######################\n",
        "# Test Processing II  #\n",
        "#######################\n",
        "\n",
        "\n",
        "def digits_to_words(input_string):\n",
        "    \"\"\"\n",
        "    인풋으로 받는 스트링에서 숫자만 추출하여 영어 단어로 변환하여 단어들이 연결된 스트링을 반환함\n",
        "    아래의 요건들을 충족시켜야함\n",
        "    * 반환하는 단어들은 영어 소문자여야함\n",
        "    * 단어들 사이에는 띄어쓰기 한칸이 있음\n",
        "    * 만약 인풋 스트링에서 숫자가 존재하지 않는 다면, 빈 문자열 (empty string)을 반환함\n",
        "        Parameters:\n",
        "            input_string (string): 영어로 된 대문자, 소문자, 띄어쓰기, 문장부호, 숫자로 이루어진 string\n",
        "            ex - \"Zip Code: 19104\"\n",
        "        Returns:\n",
        "            digit_string (string): 위 요건을 충족시킨 숫자만 영어단어로 추출된 string\n",
        "            ex - 'one nine one zero four'\n",
        "        Examples:\n",
        "            >>> import text_processing2 as tp2\n",
        "            >>> digits_str1 = \"Zip Code: 19104\"\n",
        "            >>> tp2.digits_to_words(digits_str1)\n",
        "            'one nine one zero four'\n",
        "            >>> digits_str2 = \"Pi is 3.1415...\"\n",
        "            >>> tp2.digits_to_words(digits_str2)\n",
        "            'three one four one five'\n",
        "    \"\"\"\n",
        "    number_dic = {'1': 'one ', '2': 'two ', '3': 'three ', '4': 'four ', '5': 'five ', '6': 'six ',\n",
        "                  '7': 'seven ', '8': 'eight ', '9': 'nine ', '10': 'ten ','0':'zero '}       \n",
        "    digit_string = \"\"\n",
        "    for i in range(len(input_string)):\n",
        "      if input_string[i] in number_dic:\n",
        "        digit_string += number_dic[input_string[i]]\n",
        "    digit_string = digit_string.rstrip()\n",
        "    return digit_string\n",
        "\n",
        "\n",
        "\"\"\"\n",
        "컴퓨터 프로그래밍에 많은 명명 규칙이 있지만, 두 규칙이 특히 흔히 쓰입니다. \n",
        "첫번째로는, 변수 이름을 'underscore'로 나눠준다거나, (ex. under_score_variable)\n",
        "두번째로는, 변수 이름을 대소문자 구별해 구분자 (delimiter)없이 쓰는 경우가 있습니다. \n",
        "이 두번째의 경우에는 첫번째 단어는 소문자로, 그 후에 오는 단어들의 첫번째 글자들은 대문자로 쓰입니다 (ex. camelCaseVariable). \n",
        "\"\"\"\n",
        "\n",
        "\n",
        "def to_camel_case(underscore_str):\n",
        "    \"\"\"\n",
        "    이 문제에서 첫번째 규칙 'underscore variable' 에서 두번째 규칙 'camelcase variable'으로 변환함\n",
        "    * 앞과 뒤에 여러개의 'underscore'는 무시함\n",
        "    * 만약 어떤 변수 이름이 underscore로만 이루어 진다면, 빈 문자열만 반환함\n",
        "        Parameters:\n",
        "            underscore_str (string): underscore case를 따른 스트링\n",
        "        Returns:\n",
        "            camelcase_str (string): camelcase를 따른 스트링\n",
        "        Examples:\n",
        "            >>> import text_processing2 as tp2\n",
        "            >>> underscore_str1 = \"to_camel_case\"\n",
        "            >>> tp2.to_camel_case(underscore_str1)\n",
        "            \"toCamelCase\"\n",
        "            >>> underscore_str2 = \"__EXAMPLE__NAME__\"\n",
        "            >>> tp2.to_camel_case(underscore_str2)\n",
        "            \"exampleName\"\n",
        "            >>> underscore_str3 = \"alreadyCamel\"\n",
        "            >>> tp2.to_camel_case(underscore_str3)\n",
        "            \"alreadyCamel\"\n",
        "    \"\"\"\n",
        "    import re\n",
        "    underscore_str = re.sub(\"_+\",\"_\",underscore_str.strip(\"_\"))\n",
        "    temp_list = underscore_str.split(\"_\")\n",
        "    if len(temp_list) == 1:\n",
        "      return \"\".join(temp_list)\n",
        "    camelcase_str = temp_list[0].lower()+ \"\".join(x.title() for x in temp_list[1:])\n",
        "    return camelcase_str"
      ],
      "execution_count": 13,
      "outputs": []
    },
    {
      "cell_type": "code",
      "metadata": {
        "id": "dabSht5LRG13"
      },
      "source": [
        "# -*- coding: utf8 -*-\n",
        "\n",
        "import unittest\n",
        "import random\n",
        "\n",
        "class TestTextProcessing(unittest.TestCase):\n",
        "    def test_digits_to_words(self):\n",
        "        test_str = \"\"\n",
        "        pred = digits_to_words(test_str)\n",
        "        self.assertEqual(pred, \"\")\n",
        "\n",
        "        test_str = \"Zip Code: 19104\"\n",
        "        pred = digits_to_words(test_str)\n",
        "        self.assertEqual(pred, \"one nine one zero four\")\n",
        "\n",
        "        test_str = \"Pi is 3.1415...\"\n",
        "        pred = digits_to_words(test_str)\n",
        "        self.assertEqual(pred, \"three one four one five\")\n",
        "\n",
        "        test_str = \"There are 3 jellies.\"\n",
        "        pred = digits_to_words(test_str)\n",
        "        self.assertEqual(pred, \"three\")\n",
        "\n",
        "        test_str = \"Your room number is 205.\"\n",
        "        pred = digits_to_words(test_str)\n",
        "        self.assertEqual(pred, \"two zero five\")\n",
        "\n",
        "        test_str = \"1588-1588\"\n",
        "        pred = digits_to_words(test_str)\n",
        "        self.assertEqual(pred, \"one five eight eight one five eight eight\")\n",
        "\n",
        "        test_str = \"My number: 010-1234-5678\"\n",
        "        pred = digits_to_words(test_str)\n",
        "        self.assertEqual(pred, \"zero one zero one two three four five six seven eight\")\n",
        "\n",
        "        test_str = \"No digits\"\n",
        "        pred = digits_to_words(test_str)\n",
        "        self.assertEqual(pred, \"\")\n",
        "\n",
        "        test_str = \"No digits here too!?$%\"\n",
        "        pred = digits_to_words(test_str)\n",
        "        self.assertEqual(pred, \"\")\n",
        "\n",
        "    def test_to_camel_case(self):\n",
        "        test_str = \"to_camel_case\"\n",
        "        pred = to_camel_case(test_str)\n",
        "        self.assertEqual(pred, \"toCamelCase\")\n",
        "\n",
        "        test_str = \"__EXAMPLE__NAME__\"\n",
        "        pred = to_camel_case(test_str)\n",
        "        self.assertEqual(pred, \"exampleName\")\n",
        "\n",
        "        test_str = \"alreadyCamel\"\n",
        "        pred = to_camel_case(test_str)\n",
        "        self.assertEqual(pred, \"alreadyCamel\")\n",
        "\n",
        "        test_str = \"_______\"\n",
        "        pred = to_camel_case(test_str)\n",
        "        self.assertEqual(pred, \"\")\n",
        "\n",
        "        test_str = \"\"\n",
        "        pred = to_camel_case(test_str)\n",
        "        self.assertEqual(pred, \"\")\n",
        "\n",
        "        test_str = \"not_Camel_Yet\"\n",
        "        pred = to_camel_case(test_str)\n",
        "        self.assertEqual(pred, \"notCamelYet\")\n",
        "\n",
        "        test_str = \"NOT_CAMEL_Yet\"\n",
        "        pred = to_camel_case(test_str)\n",
        "        self.assertEqual(pred, \"notCamelYet\")\n",
        "\n",
        "        test_str = \"abc_def_ghi\"\n",
        "        pred = to_camel_case(test_str)\n",
        "        self.assertEqual(pred, \"abcDefGhi\")\n",
        "\n",
        "        test_str = \"     \"\n",
        "        pred = to_camel_case(test_str)\n",
        "        self.assertEqual(pred, \"     \")\n",
        "\n",
        "        test_str = \".....\"\n",
        "        pred = to_camel_case(test_str)\n",
        "        self.assertEqual(pred, \".....\")\n"
      ],
      "execution_count": 14,
      "outputs": []
    },
    {
      "cell_type": "markdown",
      "metadata": {
        "id": "sqLIF04KQqFU"
      },
      "source": [
        "### **Test Code**\n",
        "\n",
        "아래는 본인이 짠 code가 맞는지 test하는 code입니다.\n",
        "\n",
        "함수별로 test가 진행되고, AssertionError 없이 모두 통과하면 성공입니다!\n",
        "\n",
        "만약 AssertionError가 발생했다면, 해당 Error가 어느 함수에서 발생했는지를 확인하고, 그 부분을 수정해주시면 되겠습니다.\n"
      ]
    },
    {
      "cell_type": "code",
      "metadata": {
        "id": "bBIKhkdtfnXn"
      },
      "source": [
        "ttp = TestTextProcessing()\n",
        "ttp.test_digits_to_words()\n",
        "ttp.test_to_camel_case()"
      ],
      "execution_count": 15,
      "outputs": []
    }
  ]
}