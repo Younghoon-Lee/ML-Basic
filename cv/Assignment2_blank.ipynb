{
  "nbformat": 4,
  "nbformat_minor": 2,
  "metadata": {
    "colab": {
      "name": "Assignment2_blank.ipynb",
      "provenance": [],
      "collapsed_sections": [
        "E2koBPX1_T0b"
      ]
    },
    "kernelspec": {
      "name": "python3",
      "display_name": "Python 3.8.5 64-bit ('base': conda)"
    },
    "language_info": {
      "name": "python",
      "version": "3.8.5",
      "mimetype": "text/x-python",
      "codemirror_mode": {
        "name": "ipython",
        "version": 3
      },
      "pygments_lexer": "ipython3",
      "nbconvert_exporter": "python",
      "file_extension": ".py"
    },
    "accelerator": "GPU",
    "widgets": {
      "application/vnd.jupyter.widget-state+json": {
        "a3f03c37b5a14246bda70a267a95640b": {
          "model_module": "@jupyter-widgets/controls",
          "model_name": "HBoxModel",
          "model_module_version": "1.5.0",
          "state": {
            "_view_name": "HBoxView",
            "_dom_classes": [],
            "_model_name": "HBoxModel",
            "_view_module": "@jupyter-widgets/controls",
            "_model_module_version": "1.5.0",
            "_view_count": null,
            "_view_module_version": "1.5.0",
            "box_style": "",
            "layout": "IPY_MODEL_e581d3b9c0ad4419baddc02f7afcbfea",
            "_model_module": "@jupyter-widgets/controls",
            "children": [
              "IPY_MODEL_670bf8c90ee94d67b21d9522884a9afa",
              "IPY_MODEL_23d2e208696f4d32959e8e310e243725",
              "IPY_MODEL_82049a98c24a4a69881f14f3e08dc8bb"
            ]
          }
        },
        "e581d3b9c0ad4419baddc02f7afcbfea": {
          "model_module": "@jupyter-widgets/base",
          "model_name": "LayoutModel",
          "model_module_version": "1.2.0",
          "state": {
            "_view_name": "LayoutView",
            "grid_template_rows": null,
            "right": null,
            "justify_content": null,
            "_view_module": "@jupyter-widgets/base",
            "overflow": null,
            "_model_module_version": "1.2.0",
            "_view_count": null,
            "flex_flow": null,
            "width": null,
            "min_width": null,
            "border": null,
            "align_items": null,
            "bottom": null,
            "_model_module": "@jupyter-widgets/base",
            "top": null,
            "grid_column": null,
            "overflow_y": null,
            "overflow_x": null,
            "grid_auto_flow": null,
            "grid_area": null,
            "grid_template_columns": null,
            "flex": null,
            "_model_name": "LayoutModel",
            "justify_items": null,
            "grid_row": null,
            "max_height": null,
            "align_content": null,
            "visibility": null,
            "align_self": null,
            "height": null,
            "min_height": null,
            "padding": null,
            "grid_auto_rows": null,
            "grid_gap": null,
            "max_width": null,
            "order": null,
            "_view_module_version": "1.2.0",
            "grid_template_areas": null,
            "object_position": null,
            "object_fit": null,
            "grid_auto_columns": null,
            "margin": null,
            "display": null,
            "left": null
          }
        },
        "670bf8c90ee94d67b21d9522884a9afa": {
          "model_module": "@jupyter-widgets/controls",
          "model_name": "HTMLModel",
          "model_module_version": "1.5.0",
          "state": {
            "_view_name": "HTMLView",
            "style": "IPY_MODEL_a72d6236416f445ab813c5e3b01c05da",
            "_dom_classes": [],
            "description": "",
            "_model_name": "HTMLModel",
            "placeholder": "​",
            "_view_module": "@jupyter-widgets/controls",
            "_model_module_version": "1.5.0",
            "value": "100%",
            "_view_count": null,
            "_view_module_version": "1.5.0",
            "description_tooltip": null,
            "_model_module": "@jupyter-widgets/controls",
            "layout": "IPY_MODEL_a8efb1c629bf476da6d143f5a7c25b95"
          }
        },
        "23d2e208696f4d32959e8e310e243725": {
          "model_module": "@jupyter-widgets/controls",
          "model_name": "FloatProgressModel",
          "model_module_version": "1.5.0",
          "state": {
            "_view_name": "ProgressView",
            "style": "IPY_MODEL_f156ca14788f42f398040d0143dd0ac7",
            "_dom_classes": [],
            "description": "",
            "_model_name": "FloatProgressModel",
            "bar_style": "success",
            "max": 531460341,
            "_view_module": "@jupyter-widgets/controls",
            "_model_module_version": "1.5.0",
            "value": 531460341,
            "_view_count": null,
            "_view_module_version": "1.5.0",
            "orientation": "horizontal",
            "min": 0,
            "description_tooltip": null,
            "_model_module": "@jupyter-widgets/controls",
            "layout": "IPY_MODEL_7dd0cc6b009b469e8c93367a4b262a5c"
          }
        },
        "82049a98c24a4a69881f14f3e08dc8bb": {
          "model_module": "@jupyter-widgets/controls",
          "model_name": "HTMLModel",
          "model_module_version": "1.5.0",
          "state": {
            "_view_name": "HTMLView",
            "style": "IPY_MODEL_5c0fb077aaa748cba5405d2d93bf8df7",
            "_dom_classes": [],
            "description": "",
            "_model_name": "HTMLModel",
            "placeholder": "​",
            "_view_module": "@jupyter-widgets/controls",
            "_model_module_version": "1.5.0",
            "value": " 507M/507M [00:07&lt;00:00, 72.1MB/s]",
            "_view_count": null,
            "_view_module_version": "1.5.0",
            "description_tooltip": null,
            "_model_module": "@jupyter-widgets/controls",
            "layout": "IPY_MODEL_d3e78e2a1593470ba06e1f0da120eaa6"
          }
        },
        "a72d6236416f445ab813c5e3b01c05da": {
          "model_module": "@jupyter-widgets/controls",
          "model_name": "DescriptionStyleModel",
          "model_module_version": "1.5.0",
          "state": {
            "_view_name": "StyleView",
            "_model_name": "DescriptionStyleModel",
            "description_width": "",
            "_view_module": "@jupyter-widgets/base",
            "_model_module_version": "1.5.0",
            "_view_count": null,
            "_view_module_version": "1.2.0",
            "_model_module": "@jupyter-widgets/controls"
          }
        },
        "a8efb1c629bf476da6d143f5a7c25b95": {
          "model_module": "@jupyter-widgets/base",
          "model_name": "LayoutModel",
          "model_module_version": "1.2.0",
          "state": {
            "_view_name": "LayoutView",
            "grid_template_rows": null,
            "right": null,
            "justify_content": null,
            "_view_module": "@jupyter-widgets/base",
            "overflow": null,
            "_model_module_version": "1.2.0",
            "_view_count": null,
            "flex_flow": null,
            "width": null,
            "min_width": null,
            "border": null,
            "align_items": null,
            "bottom": null,
            "_model_module": "@jupyter-widgets/base",
            "top": null,
            "grid_column": null,
            "overflow_y": null,
            "overflow_x": null,
            "grid_auto_flow": null,
            "grid_area": null,
            "grid_template_columns": null,
            "flex": null,
            "_model_name": "LayoutModel",
            "justify_items": null,
            "grid_row": null,
            "max_height": null,
            "align_content": null,
            "visibility": null,
            "align_self": null,
            "height": null,
            "min_height": null,
            "padding": null,
            "grid_auto_rows": null,
            "grid_gap": null,
            "max_width": null,
            "order": null,
            "_view_module_version": "1.2.0",
            "grid_template_areas": null,
            "object_position": null,
            "object_fit": null,
            "grid_auto_columns": null,
            "margin": null,
            "display": null,
            "left": null
          }
        },
        "f156ca14788f42f398040d0143dd0ac7": {
          "model_module": "@jupyter-widgets/controls",
          "model_name": "ProgressStyleModel",
          "model_module_version": "1.5.0",
          "state": {
            "_view_name": "StyleView",
            "_model_name": "ProgressStyleModel",
            "description_width": "",
            "_view_module": "@jupyter-widgets/base",
            "_model_module_version": "1.5.0",
            "_view_count": null,
            "_view_module_version": "1.2.0",
            "bar_color": null,
            "_model_module": "@jupyter-widgets/controls"
          }
        },
        "7dd0cc6b009b469e8c93367a4b262a5c": {
          "model_module": "@jupyter-widgets/base",
          "model_name": "LayoutModel",
          "model_module_version": "1.2.0",
          "state": {
            "_view_name": "LayoutView",
            "grid_template_rows": null,
            "right": null,
            "justify_content": null,
            "_view_module": "@jupyter-widgets/base",
            "overflow": null,
            "_model_module_version": "1.2.0",
            "_view_count": null,
            "flex_flow": null,
            "width": null,
            "min_width": null,
            "border": null,
            "align_items": null,
            "bottom": null,
            "_model_module": "@jupyter-widgets/base",
            "top": null,
            "grid_column": null,
            "overflow_y": null,
            "overflow_x": null,
            "grid_auto_flow": null,
            "grid_area": null,
            "grid_template_columns": null,
            "flex": null,
            "_model_name": "LayoutModel",
            "justify_items": null,
            "grid_row": null,
            "max_height": null,
            "align_content": null,
            "visibility": null,
            "align_self": null,
            "height": null,
            "min_height": null,
            "padding": null,
            "grid_auto_rows": null,
            "grid_gap": null,
            "max_width": null,
            "order": null,
            "_view_module_version": "1.2.0",
            "grid_template_areas": null,
            "object_position": null,
            "object_fit": null,
            "grid_auto_columns": null,
            "margin": null,
            "display": null,
            "left": null
          }
        },
        "5c0fb077aaa748cba5405d2d93bf8df7": {
          "model_module": "@jupyter-widgets/controls",
          "model_name": "DescriptionStyleModel",
          "model_module_version": "1.5.0",
          "state": {
            "_view_name": "StyleView",
            "_model_name": "DescriptionStyleModel",
            "description_width": "",
            "_view_module": "@jupyter-widgets/base",
            "_model_module_version": "1.5.0",
            "_view_count": null,
            "_view_module_version": "1.2.0",
            "_model_module": "@jupyter-widgets/controls"
          }
        },
        "d3e78e2a1593470ba06e1f0da120eaa6": {
          "model_module": "@jupyter-widgets/base",
          "model_name": "LayoutModel",
          "model_module_version": "1.2.0",
          "state": {
            "_view_name": "LayoutView",
            "grid_template_rows": null,
            "right": null,
            "justify_content": null,
            "_view_module": "@jupyter-widgets/base",
            "overflow": null,
            "_model_module_version": "1.2.0",
            "_view_count": null,
            "flex_flow": null,
            "width": null,
            "min_width": null,
            "border": null,
            "align_items": null,
            "bottom": null,
            "_model_module": "@jupyter-widgets/base",
            "top": null,
            "grid_column": null,
            "overflow_y": null,
            "overflow_x": null,
            "grid_auto_flow": null,
            "grid_area": null,
            "grid_template_columns": null,
            "flex": null,
            "_model_name": "LayoutModel",
            "justify_items": null,
            "grid_row": null,
            "max_height": null,
            "align_content": null,
            "visibility": null,
            "align_self": null,
            "height": null,
            "min_height": null,
            "padding": null,
            "grid_auto_rows": null,
            "grid_gap": null,
            "max_width": null,
            "order": null,
            "_view_module_version": "1.2.0",
            "grid_template_areas": null,
            "object_position": null,
            "object_fit": null,
            "grid_auto_columns": null,
            "margin": null,
            "display": null,
            "left": null
          }
        }
      }
    },
    "interpreter": {
      "hash": "98b0a9b7b4eaaa670588a142fd0a9b87eaafe866f1db4228be72b4211d12040f"
    }
  },
  "cells": [
    {
      "cell_type": "markdown",
      "source": [
        "# 필수과제 2 : Data augmentation for Quickdraw datset\n",
        "\n",
        "\n",
        "\n"
      ],
      "metadata": {
        "id": "-FdOxP8_-kGT"
      }
    },
    {
      "cell_type": "markdown",
      "source": [
        "필수과제 2번에서는 Quickdraw dataset에 대한 성능을 높이기 위한 다양한 image data augmentation을 사용해보게 됩니다. Data augmentation은 diverse한 image 생성을 통해 overfitting 방지하거나, 일종의 interpolation을 통한 data distribution 공간을 보다 dense하게 만드는 효과를 내 학습을 쉽게 하는 등의 효과가 있습니다. 이 과제에서는 무작위로 augmentation을 적용하는 것 보다, 학습 dataset 특성에 맞는 다양한 augmentation을 적용해보고 그 효과를 평가해보는 것이 목표입니다."
      ],
      "metadata": {
        "id": "EQpGCaVX-ry8"
      }
    },
    {
      "cell_type": "markdown",
      "source": [
        "## Quickdraw dataset\n",
        "아래 코드는 필수과제 1에서와 동일한 Quickdraw dataset의 준비 코드입니다. 다만, 이번 과제에서는 augmentation을 적용하기 위해 직접 transform을 정의하고, 해당 transformation을 torch.utils.data.Dataset class인 QuickDrawDataset에 직접 전달해주어야 하기 때문에, 해당 부분을 확인하실 수 있게 아래 코드로 독립시켜두었습니다."
      ],
      "metadata": {
        "id": "E2koBPX1_T0b"
      }
    },
    {
      "cell_type": "code",
      "execution_count": 3,
      "source": [
        "!pip3 install quickdraw\n",
        "!pip3 install albumentations"
      ],
      "outputs": [
        {
          "output_type": "stream",
          "name": "stdout",
          "text": [
            "Requirement already satisfied: quickdraw in /opt/conda/lib/python3.8/site-packages (0.2.0)\n",
            "Requirement already satisfied: requests in /opt/conda/lib/python3.8/site-packages (from quickdraw) (2.24.0)\n",
            "Requirement already satisfied: pillow in /opt/conda/lib/python3.8/site-packages (from quickdraw) (8.1.0)\n",
            "Requirement already satisfied: idna<3,>=2.5 in /opt/conda/lib/python3.8/site-packages (from requests->quickdraw) (2.10)\n",
            "Requirement already satisfied: chardet<4,>=3.0.2 in /opt/conda/lib/python3.8/site-packages (from requests->quickdraw) (3.0.4)\n",
            "Requirement already satisfied: urllib3!=1.25.0,!=1.25.1,<1.26,>=1.21.1 in /opt/conda/lib/python3.8/site-packages (from requests->quickdraw) (1.25.11)\n",
            "Requirement already satisfied: certifi>=2017.4.17 in /opt/conda/lib/python3.8/site-packages (from requests->quickdraw) (2020.12.5)\n",
            "Collecting albumentations\n",
            "  Downloading albumentations-1.0.3-py3-none-any.whl (98 kB)\n",
            "\u001b[K     |████████████████████████████████| 98 kB 9.4 MB/s \n",
            "\u001b[?25hCollecting opencv-python-headless>=4.1.1\n",
            "  Downloading opencv_python_headless-4.5.3.56-cp38-cp38-manylinux2014_x86_64.whl (37.1 MB)\n",
            "\u001b[K     |████████████████████████████████| 37.1 MB 38.7 MB/s \n",
            "\u001b[?25hRequirement already satisfied: PyYAML in /opt/conda/lib/python3.8/site-packages (from albumentations) (5.3.1)\n",
            "Requirement already satisfied: scipy in /opt/conda/lib/python3.8/site-packages (from albumentations) (1.7.1)\n",
            "Requirement already satisfied: numpy>=1.11.1 in /opt/conda/lib/python3.8/site-packages (from albumentations) (1.19.2)\n",
            "Collecting scikit-image>=0.16.1\n",
            "  Downloading scikit_image-0.18.3-cp38-cp38-manylinux_2_5_x86_64.manylinux1_x86_64.whl (30.2 MB)\n",
            "\u001b[K     |████████████████████████████████| 30.2 MB 72.9 MB/s \n",
            "\u001b[?25hCollecting tifffile>=2019.7.26\n",
            "  Downloading tifffile-2021.8.30-py3-none-any.whl (171 kB)\n",
            "\u001b[K     |████████████████████████████████| 171 kB 86.7 MB/s \n",
            "\u001b[?25hCollecting PyWavelets>=1.1.1\n",
            "  Downloading PyWavelets-1.1.1-cp38-cp38-manylinux1_x86_64.whl (4.4 MB)\n",
            "\u001b[K     |████████████████████████████████| 4.4 MB 46.2 MB/s \n",
            "\u001b[?25hRequirement already satisfied: matplotlib!=3.0.0,>=2.0.0 in /opt/conda/lib/python3.8/site-packages (from scikit-image>=0.16.1->albumentations) (3.2.1)\n",
            "Requirement already satisfied: pillow!=7.1.0,!=7.1.1,>=4.3.0 in /opt/conda/lib/python3.8/site-packages (from scikit-image>=0.16.1->albumentations) (8.1.0)\n",
            "Collecting imageio>=2.3.0\n",
            "  Downloading imageio-2.9.0-py3-none-any.whl (3.3 MB)\n",
            "\u001b[K     |████████████████████████████████| 3.3 MB 64.4 MB/s \n",
            "\u001b[?25hCollecting networkx>=2.0\n",
            "  Downloading networkx-2.6.2-py3-none-any.whl (1.9 MB)\n",
            "\u001b[K     |████████████████████████████████| 1.9 MB 80.7 MB/s \n",
            "\u001b[?25hRequirement already satisfied: kiwisolver>=1.0.1 in /opt/conda/lib/python3.8/site-packages (from matplotlib!=3.0.0,>=2.0.0->scikit-image>=0.16.1->albumentations) (1.3.1)\n",
            "Requirement already satisfied: cycler>=0.10 in /opt/conda/lib/python3.8/site-packages (from matplotlib!=3.0.0,>=2.0.0->scikit-image>=0.16.1->albumentations) (0.10.0)\n",
            "Requirement already satisfied: pyparsing!=2.0.4,!=2.1.2,!=2.1.6,>=2.0.1 in /opt/conda/lib/python3.8/site-packages (from matplotlib!=3.0.0,>=2.0.0->scikit-image>=0.16.1->albumentations) (2.4.7)\n",
            "Requirement already satisfied: python-dateutil>=2.1 in /opt/conda/lib/python3.8/site-packages (from matplotlib!=3.0.0,>=2.0.0->scikit-image>=0.16.1->albumentations) (2.8.2)\n",
            "Requirement already satisfied: six in /opt/conda/lib/python3.8/site-packages (from cycler>=0.10->matplotlib!=3.0.0,>=2.0.0->scikit-image>=0.16.1->albumentations) (1.15.0)\n",
            "Installing collected packages: opencv-python-headless, tifffile, PyWavelets, imageio, networkx, scikit-image, albumentations\n",
            "Successfully installed PyWavelets-1.1.1 albumentations-1.0.3 imageio-2.9.0 networkx-2.6.2 opencv-python-headless-4.5.3.56 scikit-image-0.18.3 tifffile-2021.8.30\n"
          ]
        }
      ],
      "metadata": {
        "colab": {
          "base_uri": "https://localhost:8080/"
        },
        "id": "XR1bH4WF6qBP",
        "outputId": "4a4d33b6-4431-4d8e-8f8a-ed1c47f8d429"
      }
    },
    {
      "cell_type": "code",
      "execution_count": 4,
      "source": [
        "from quickdraw import QuickDrawData, QuickDrawDataGroup\n",
        "import torch\n",
        "from torch.utils.data import Dataset, DataLoader\n",
        "from torchvision import transforms, utils\n",
        "import itertools\n",
        "import matplotlib.pyplot as plt\n",
        "import os\n",
        "import numpy as np\n",
        "import torch.nn as nn\n",
        "import albumentations\n",
        "import albumentations.pytorch\n",
        "import pandas as pd"
      ],
      "outputs": [],
      "metadata": {
        "id": "04jAy3qh7Lpj"
      }
    },
    {
      "cell_type": "code",
      "execution_count": 5,
      "source": [
        "num_img_per_class = 3000\n",
        "qd = QuickDrawData(max_drawings=num_img_per_class)"
      ],
      "outputs": [],
      "metadata": {
        "id": "RVpsG6D7IXFq"
      }
    },
    {
      "cell_type": "code",
      "execution_count": 6,
      "source": [
        "class_list = ['apple', 'wine bottle', 'spoon', 'rainbow', 'panda', 'hospital', 'scissors', 'toothpaste', 'baseball', 'hourglass']\n",
        "class_dict = {'apple' : 0, 'wine bottle' : 1, 'spoon' : 2, 'rainbow' : 3, 'panda': 4, 'hospital' : 5, 'scissors' : 6, 'toothpaste' : 7, 'baseball' : 8, 'hourglass' : 9}"
      ],
      "outputs": [],
      "metadata": {
        "id": "GRk-2HBhBb99"
      }
    },
    {
      "cell_type": "code",
      "execution_count": 7,
      "source": [
        "# qd.load_drawings(class_list)\n",
        "print(qd.loaded_drawings)"
      ],
      "outputs": [
        {
          "output_type": "stream",
          "name": "stdout",
          "text": [
            "[]\n"
          ]
        }
      ],
      "metadata": {
        "colab": {
          "base_uri": "https://localhost:8080/"
        },
        "id": "70K8gdG69UI0",
        "outputId": "76080014-6f94-4084-f5bb-2d825a8d790f"
      }
    },
    {
      "cell_type": "code",
      "execution_count": null,
      "source": [],
      "outputs": [],
      "metadata": {
        "id": "YlX1rvpwJxDG"
      }
    },
    {
      "cell_type": "code",
      "execution_count": 8,
      "source": [
        "train_data = list()\n",
        "val_data = list()\n",
        "train_label = list()\n",
        "val_label = list()\n",
        "for class_name in class_list:\n",
        "  qdgroup = QuickDrawDataGroup(class_name, max_drawings=num_img_per_class)\n",
        "  for i, img in enumerate(qdgroup.drawings):\n",
        "    if i < int(0.9 * num_img_per_class):\n",
        "      train_data.append(img.get_image())\n",
        "      train_label.append(class_dict[class_name])\n",
        "    else:\n",
        "      val_data.append(img.get_image())\n",
        "      val_label.append(class_dict[class_name])"
      ],
      "outputs": [
        {
          "output_type": "stream",
          "name": "stdout",
          "text": [
            "downloading apple from https://storage.googleapis.com/quickdraw_dataset/full/binary/apple.bin\n",
            "download complete\n",
            "loading apple drawings\n",
            "load complete\n",
            "downloading wine bottle from https://storage.googleapis.com/quickdraw_dataset/full/binary/wine bottle.bin\n",
            "download complete\n",
            "loading wine bottle drawings\n",
            "load complete\n",
            "downloading spoon from https://storage.googleapis.com/quickdraw_dataset/full/binary/spoon.bin\n",
            "download complete\n",
            "loading spoon drawings\n",
            "load complete\n",
            "downloading rainbow from https://storage.googleapis.com/quickdraw_dataset/full/binary/rainbow.bin\n",
            "download complete\n",
            "loading rainbow drawings\n",
            "load complete\n",
            "downloading panda from https://storage.googleapis.com/quickdraw_dataset/full/binary/panda.bin\n",
            "download complete\n",
            "loading panda drawings\n",
            "load complete\n",
            "downloading hospital from https://storage.googleapis.com/quickdraw_dataset/full/binary/hospital.bin\n",
            "download complete\n",
            "loading hospital drawings\n",
            "load complete\n",
            "downloading scissors from https://storage.googleapis.com/quickdraw_dataset/full/binary/scissors.bin\n",
            "download complete\n",
            "loading scissors drawings\n",
            "load complete\n",
            "downloading toothpaste from https://storage.googleapis.com/quickdraw_dataset/full/binary/toothpaste.bin\n",
            "download complete\n",
            "loading toothpaste drawings\n",
            "load complete\n",
            "downloading baseball from https://storage.googleapis.com/quickdraw_dataset/full/binary/baseball.bin\n",
            "download complete\n",
            "loading baseball drawings\n",
            "load complete\n",
            "downloading hourglass from https://storage.googleapis.com/quickdraw_dataset/full/binary/hourglass.bin\n",
            "download complete\n",
            "loading hourglass drawings\n",
            "load complete\n"
          ]
        }
      ],
      "metadata": {
        "colab": {
          "base_uri": "https://localhost:8080/"
        },
        "id": "0gqxlZUcCDXx",
        "outputId": "e8ef2d36-bacd-417b-bb61-32af3c497807"
      }
    },
    {
      "cell_type": "code",
      "execution_count": 9,
      "source": [
        "# Misc\n",
        "\n",
        "class AverageMeter(object):\n",
        "  \"\"\"Computes and stores the average and current value\"\"\"\n",
        "  def __init__(self):\n",
        "      self.reset()\n",
        "\n",
        "  def reset(self):\n",
        "    self.val = 0\n",
        "    self.avg = 0\n",
        "    self.sum = 0\n",
        "    self.count = 0\n",
        "\n",
        "  def update(self, val, n=1):\n",
        "    self.val = val\n",
        "    self.sum += val * n\n",
        "    self.count += n\n",
        "    self.avg = self.sum / self.count"
      ],
      "outputs": [],
      "metadata": {
        "id": "YmhkezJwDq4W"
      }
    },
    {
      "cell_type": "markdown",
      "source": [
        "## Applying augmentations\n",
        "이제 아래 정의된 ***class QuickDrawDatset(Dataset)***를 생성하는 과정에서 직접 정의한 augmentation을 적용할 수 있게 해야합니다. 캠퍼 여러분이 수행하야 하는 과제 내용은 아래와 같습니다.\n",
        "\n",
        "- **TO DO (1-1)** : 다양한 패키지를 이용한 user-defined augmentation list를 적용해주세요. Image data augmentation을 위해 흔히 사용하는 패키지로는, *torchvision.transform*, *albumentation*, *imgaug*과 같은 패키지들이 있습니다. 다양한 패키지의 augmentation을 custom dataset에 직접 구현해보세요. 참고로, augmentation은 train dataset에만 적용하고 validation dataset에는 적용하지 않으시면 됩니다.\n",
        "\n",
        "- **Hint** : 과제 1의 baseline 코드는 *torchvision.transform*를 이용해 주어진 이미지를 학습에 사용하기 위해 (224, 224) 크기로 resize하고, numpy.ndarray에서 tensor로 변환하고 있습니다. 원활한 학습을 위해서는 augmentation을 적용한 이후 **Resize(), ToTensor()**와 같은 함수를 이용해 적절한 형태로 이미지를 변환해주어야 합니다."
      ],
      "metadata": {
        "id": "FXZl8lZp_4CI"
      }
    },
    {
      "cell_type": "code",
      "execution_count": 10,
      "source": [
        "class QuickDrawDataset(Dataset):\n",
        "\n",
        "    def __init__(self, data, labels, transform=None):\n",
        "        self.data = data\n",
        "        self.labels = labels\n",
        "        self.transform = transform\n",
        "\n",
        "    def __len__(self):\n",
        "        return len(self.data)\n",
        "\n",
        "    def __getitem__(self, idx):\n",
        "        img = self.data[idx]\n",
        "        label = self.labels[idx]\n",
        "        if self.transform:\n",
        "          img = self.transform(img)\n",
        "        return img, label"
      ],
      "outputs": [],
      "metadata": {
        "id": "veN_TBjQ-a-y"
      }
    },
    {
      "cell_type": "code",
      "execution_count": 23,
      "source": [
        "# TO DO (1-1) starts here\n",
        "# Fill empty parts with proper code\n",
        "\n",
        "transform = transforms.Compose([\n",
        "                                transforms.Resize((224,224)),\n",
        "                                transforms.GaussianBlur(kernel_size=5),\n",
        "                                \n",
        "                                transforms.ToTensor()\n",
        "])"
      ],
      "outputs": [],
      "metadata": {
        "id": "GOuZir1wI_Jd"
      }
    },
    {
      "cell_type": "code",
      "execution_count": 24,
      "source": [
        "transform_val = transforms.Compose([\n",
        "                              \n",
        "                                transforms.Resize((224,224)),\n",
        "                                transforms.ToTensor()\n",
        "])\n",
        "# TO DO (1-1) ends here"
      ],
      "outputs": [],
      "metadata": {
        "id": "7nT-0VJpaMVs"
      }
    },
    {
      "cell_type": "code",
      "execution_count": 25,
      "source": [
        "qd_train_dataset = QuickDrawDataset(train_data, train_label, transform)\n",
        "qd_val_dataset = QuickDrawDataset(val_data, val_label, transform_val)\n",
        "\n",
        "qd_train_dataloader = DataLoader(qd_train_dataset, batch_size=64, shuffle=True)\n",
        "qd_val_dataloader = DataLoader(qd_val_dataset, batch_size=64, shuffle=True)\n",
        "\n",
        "qd_train_dataset[45]"
      ],
      "outputs": [
        {
          "output_type": "execute_result",
          "data": {
            "text/plain": [
              "(tensor([[[1., 1., 1.,  ..., 1., 1., 1.],\n",
              "          [1., 1., 1.,  ..., 1., 1., 1.],\n",
              "          [1., 1., 1.,  ..., 1., 1., 1.],\n",
              "          ...,\n",
              "          [1., 1., 1.,  ..., 1., 1., 1.],\n",
              "          [1., 1., 1.,  ..., 1., 1., 1.],\n",
              "          [1., 1., 1.,  ..., 1., 1., 1.]],\n",
              " \n",
              "         [[1., 1., 1.,  ..., 1., 1., 1.],\n",
              "          [1., 1., 1.,  ..., 1., 1., 1.],\n",
              "          [1., 1., 1.,  ..., 1., 1., 1.],\n",
              "          ...,\n",
              "          [1., 1., 1.,  ..., 1., 1., 1.],\n",
              "          [1., 1., 1.,  ..., 1., 1., 1.],\n",
              "          [1., 1., 1.,  ..., 1., 1., 1.]],\n",
              " \n",
              "         [[1., 1., 1.,  ..., 1., 1., 1.],\n",
              "          [1., 1., 1.,  ..., 1., 1., 1.],\n",
              "          [1., 1., 1.,  ..., 1., 1., 1.],\n",
              "          ...,\n",
              "          [1., 1., 1.,  ..., 1., 1., 1.],\n",
              "          [1., 1., 1.,  ..., 1., 1., 1.],\n",
              "          [1., 1., 1.,  ..., 1., 1., 1.]]]),\n",
              " 0)"
            ]
          },
          "metadata": {},
          "execution_count": 25
        }
      ],
      "metadata": {
        "id": "T6ooe0ZYAIgP",
        "outputId": "c9bd2e31-56e5-4ff4-d376-e731d56c2e8b",
        "colab": {
          "base_uri": "https://localhost:8080/"
        }
      }
    },
    {
      "cell_type": "markdown",
      "source": [
        "## Visualizing augmentated images\n",
        "다양한 augmentation을 적용한 이후에는, 원하는 augmentation이 잘 적용되고 있는지 확인해보는 과정이 필수적입니다. Augmentation 뿐만 아니라, Computer Vision의 다양한 모델들을 구현할 때는 모델의 input, output image나 중간 feature map을 시각화해보는 것이 아주 중요합니다. 이를 통해, 사소한 실수를 방지할 수 있을 뿐 아니라, loss로는 파악하기 힘든 모델의 성능 및 강점/약점을 파악할 수 있기 때문입니다.\n",
        "\n",
        "따라서, 이번에는 augmentation이 잘 적용되었는지 확인해보는 코드를 작성해야 합니다. \n",
        "\n",
        "- **TO DO (2-1)** : 직접 정의한 augmentation을 사용하느 qd_train_dataloader와 augmentation을 사용하지 않는 qd_val_dataloader의 이미지들을 직접 확인할 수 있는 코드를 작성해주세요.\n",
        "- **Hint 1** : *iter(), next()* 함수를 이용하면 dataloader에서 image 및 label을 반복적으로 추출할 수 있습니다. \n",
        "- **Hint 2** : 이미지의 channel order를 고려해야 합니다. cv2의 경우는 default channel order가 BGR인데 반해, PyTorch에서는 일반적으로 RGB order로 학습을 진행하는 경우가 많습니다. Quickdraw dataset의 경우 흑백 이미지라서 차이를 고려하지 않아도 괜찮지만, 컬러 이미지의 경우 이러한 차이가 큰 문제로 이어질 수 있습니다. 가령, RGB 이미지로 학습을 진행하고 *cv2.imread()*로 이미지를 불러와 그대로 model에 넣어주는 경우 모델이 아주 낮은 성능을 기록할 수 있습니다.\n",
        "- **Hint 3** : 각 dimension이 무엇을 나타내는지도 고려해야 합니다. cv2는 (height, width, channel) 순서로 이미지를 처리하지만, torch의 *conv2d* layer의 경우 (batch, channel, height, width) 순서의 tensor를 입력받습니다. 따라서, *permute()* 같은 함수를 통해 channel 순서를 바꿔주거나, *torch.squeeze(), torch.unsqueeze(), np.newaxis()*등을 dummy batch dimension을 생성/제거해주는 경우도 많이 있습니다.\n",
        "- **Hint 4** : 아직 이미지를 GPU에 올리지 않아 해당되지 않는 사항이지만, GPU에 올라간 이미지는 바로 *.cpu()*와 같은 함수를 통해 cpu에 올린 이후 ndarray로 변환해야 하는 경우도 있습니다. 또, gradient가 계산되는 경우는 *.detach()*와 같은 함수를 사용해야 할 수도 있습니다.\n",
        "\n",
        "이미지를 확인해보기 위해 위 힌트들이 모두 필요할 수도, 아닐 수도 있습니다. 본인이 augmentation을 구현한 방법을 잘 고려해서 본인의 방식대로 이미지를 확인해보면 됩니다. 다만, 위 힌트들은 일반적으로 확인해야 하는 경우가 많기 때문에 관련 내용을 확인해보시는 것을 추천드립니다."
      ],
      "metadata": {
        "id": "x6CzndznBhwV"
      }
    },
    {
      "cell_type": "code",
      "execution_count": 26,
      "source": [
        "# TO DO (2-1) starts here\n",
        "# Fill empty parts with proper code\n",
        "img, label = next(iter(qd_train_dataloader))\n",
        "\n",
        "img[0].shape"
      ],
      "outputs": [
        {
          "output_type": "error",
          "ename": "TypeError",
          "evalue": "'int' object is not callable",
          "traceback": [
            "\u001b[0;31m---------------------------------------------------------------------------\u001b[0m",
            "\u001b[0;31mTypeError\u001b[0m                                 Traceback (most recent call last)",
            "\u001b[0;32m<ipython-input-26-718917d6f577>\u001b[0m in \u001b[0;36m<module>\u001b[0;34m\u001b[0m\n\u001b[1;32m      1\u001b[0m \u001b[0;31m# TO DO (2-1) starts here\u001b[0m\u001b[0;34m\u001b[0m\u001b[0;34m\u001b[0m\u001b[0;34m\u001b[0m\u001b[0m\n\u001b[1;32m      2\u001b[0m \u001b[0;31m# Fill empty parts with proper code\u001b[0m\u001b[0;34m\u001b[0m\u001b[0;34m\u001b[0m\u001b[0;34m\u001b[0m\u001b[0m\n\u001b[0;32m----> 3\u001b[0;31m \u001b[0mimg\u001b[0m\u001b[0;34m,\u001b[0m \u001b[0mlabel\u001b[0m \u001b[0;34m=\u001b[0m \u001b[0mnext\u001b[0m\u001b[0;34m(\u001b[0m\u001b[0miter\u001b[0m\u001b[0;34m(\u001b[0m\u001b[0mqd_train_dataloader\u001b[0m\u001b[0;34m)\u001b[0m\u001b[0;34m)\u001b[0m\u001b[0;34m\u001b[0m\u001b[0;34m\u001b[0m\u001b[0m\n\u001b[0m\u001b[1;32m      4\u001b[0m \u001b[0;34m\u001b[0m\u001b[0m\n\u001b[1;32m      5\u001b[0m \u001b[0mimg\u001b[0m\u001b[0;34m[\u001b[0m\u001b[0;36m0\u001b[0m\u001b[0;34m]\u001b[0m\u001b[0;34m.\u001b[0m\u001b[0mshape\u001b[0m\u001b[0;34m\u001b[0m\u001b[0;34m\u001b[0m\u001b[0m\n",
            "\u001b[0;31mTypeError\u001b[0m: 'int' object is not callable"
          ]
        }
      ],
      "metadata": {
        "id": "26i_g0vQ-wuK",
        "outputId": "7fb882fb-7dfb-4061-9bc1-2b0881e7d5d1",
        "colab": {
          "base_uri": "https://localhost:8080/"
        }
      }
    },
    {
      "cell_type": "code",
      "execution_count": 27,
      "source": [
        "import matplotlib.pyplot as plt\n",
        "from torchvision.transforms.functional import to_pil_image\n",
        "visualized_img = to_pil_image(img[44])\n",
        "\n",
        "# TO DO (2-1) ends here\n",
        "plt.imshow(visualized_img)\n",
        "plt.show()\n",
        "print(class_list[label[44]])"
      ],
      "outputs": [
        {
          "output_type": "display_data",
          "data": {
            "image/png": "[encoded data removed]",
            "text/plain": [
              "<Figure size 432x288 with 1 Axes>"
            ]
          },
          "metadata": {
            "needs_background": "light"
          }
        },
        {
          "output_type": "stream",
          "name": "stdout",
          "text": [
            "panda\n"
          ]
        }
      ],
      "metadata": {
        "colab": {
          "base_uri": "https://localhost:8080/",
          "height": 287
        },
        "id": "ej376Vfy-84f",
        "outputId": "9d24423d-dc4a-4342-84f5-5a975b8496f1"
      }
    },
    {
      "cell_type": "markdown",
      "source": [
        "## Training VGG-11 with augmented images\n",
        "이제 augmentation을 적용한 이미지들을 이용해 VGG-11 model을 다시 학습해봅니다. Augmetation을 적용한 경우와 그렇지 않은 경우, 학습이 어떻게 진행되는지 확인해보세요. 단순히 augmentation을 이것저것 적용해보면서 그 중 loss가 가장 낮게 나온 것을 고르는 것 보다는 결과가 좋아졌다면 왜 좋아졌는지, 나빠졌다면 왜 나빠졌는지 나름의 이유를 고민해보시는 것이 중요합니다. 또, 필요한 경우에 loss 그래프만 보는 것 대신 위에서 해본 것 처럼 model의 output을 직접 확인해보면서, 어떤 경우에 model이 더 좋아지거나 나빠졌는지 확인해보세요."
      ],
      "metadata": {
        "id": "f-M2Mcd5FJWZ"
      }
    },
    {
      "cell_type": "code",
      "execution_count": 28,
      "source": [
        "from torchvision.models import vgg11\n",
        "\n",
        "pretrained = True # True of False\n",
        "\n",
        "model = vgg11(pretrained)\n",
        "model.classifier[6] = nn.Linear(in_features=4096, out_features=10, bias=True)\n",
        "model.cuda()\n",
        "\n",
        "# Freeze the feature extracting convolution layers\n",
        "# model.features.requires_grad_(False)"
      ],
      "outputs": [
        {
          "output_type": "execute_result",
          "data": {
            "text/plain": [
              "VGG(\n",
              "  (features): Sequential(\n",
              "    (0): Conv2d(3, 64, kernel_size=(3, 3), stride=(1, 1), padding=(1, 1))\n",
              "    (1): ReLU(inplace=True)\n",
              "    (2): MaxPool2d(kernel_size=2, stride=2, padding=0, dilation=1, ceil_mode=False)\n",
              "    (3): Conv2d(64, 128, kernel_size=(3, 3), stride=(1, 1), padding=(1, 1))\n",
              "    (4): ReLU(inplace=True)\n",
              "    (5): MaxPool2d(kernel_size=2, stride=2, padding=0, dilation=1, ceil_mode=False)\n",
              "    (6): Conv2d(128, 256, kernel_size=(3, 3), stride=(1, 1), padding=(1, 1))\n",
              "    (7): ReLU(inplace=True)\n",
              "    (8): Conv2d(256, 256, kernel_size=(3, 3), stride=(1, 1), padding=(1, 1))\n",
              "    (9): ReLU(inplace=True)\n",
              "    (10): MaxPool2d(kernel_size=2, stride=2, padding=0, dilation=1, ceil_mode=False)\n",
              "    (11): Conv2d(256, 512, kernel_size=(3, 3), stride=(1, 1), padding=(1, 1))\n",
              "    (12): ReLU(inplace=True)\n",
              "    (13): Conv2d(512, 512, kernel_size=(3, 3), stride=(1, 1), padding=(1, 1))\n",
              "    (14): ReLU(inplace=True)\n",
              "    (15): MaxPool2d(kernel_size=2, stride=2, padding=0, dilation=1, ceil_mode=False)\n",
              "    (16): Conv2d(512, 512, kernel_size=(3, 3), stride=(1, 1), padding=(1, 1))\n",
              "    (17): ReLU(inplace=True)\n",
              "    (18): Conv2d(512, 512, kernel_size=(3, 3), stride=(1, 1), padding=(1, 1))\n",
              "    (19): ReLU(inplace=True)\n",
              "    (20): MaxPool2d(kernel_size=2, stride=2, padding=0, dilation=1, ceil_mode=False)\n",
              "  )\n",
              "  (avgpool): AdaptiveAvgPool2d(output_size=(7, 7))\n",
              "  (classifier): Sequential(\n",
              "    (0): Linear(in_features=25088, out_features=4096, bias=True)\n",
              "    (1): ReLU(inplace=True)\n",
              "    (2): Dropout(p=0.5, inplace=False)\n",
              "    (3): Linear(in_features=4096, out_features=4096, bias=True)\n",
              "    (4): ReLU(inplace=True)\n",
              "    (5): Dropout(p=0.5, inplace=False)\n",
              "    (6): Linear(in_features=4096, out_features=10, bias=True)\n",
              "  )\n",
              ")"
            ]
          },
          "metadata": {},
          "execution_count": 28
        }
      ],
      "metadata": {
        "colab": {
          "base_uri": "https://localhost:8080/",
          "height": 481,
          "referenced_widgets": [
            "a3f03c37b5a14246bda70a267a95640b",
            "e581d3b9c0ad4419baddc02f7afcbfea",
            "670bf8c90ee94d67b21d9522884a9afa",
            "23d2e208696f4d32959e8e310e243725",
            "82049a98c24a4a69881f14f3e08dc8bb",
            "a72d6236416f445ab813c5e3b01c05da",
            "a8efb1c629bf476da6d143f5a7c25b95",
            "f156ca14788f42f398040d0143dd0ac7",
            "7dd0cc6b009b469e8c93367a4b262a5c",
            "5c0fb077aaa748cba5405d2d93bf8df7",
            "d3e78e2a1593470ba06e1f0da120eaa6"
          ]
        },
        "id": "UMqSkZF9ERRR",
        "outputId": "7229b745-1503-4d6a-9d95-23df0570b837"
      }
    },
    {
      "cell_type": "code",
      "execution_count": 19,
      "source": [
        "log_dir ='./log'"
      ],
      "outputs": [],
      "metadata": {
        "id": "CKZTQB1kH1Dh"
      }
    },
    {
      "cell_type": "code",
      "execution_count": 29,
      "source": [
        "# Loss function and Optimizer\n",
        "from torch.optim import Adam\n",
        "\n",
        "criterion = nn.CrossEntropyLoss()\n",
        "optimizer_ft = Adam(model.parameters(), lr=1e-4)"
      ],
      "outputs": [],
      "metadata": {
        "id": "f9WrU6AfVdyi"
      }
    },
    {
      "cell_type": "code",
      "execution_count": 30,
      "source": [
        "# Main\n",
        "os.makedirs(log_dir, exist_ok=True)\n",
        "\n",
        "with open(os.path.join(log_dir, 'augmentation_train_log.csv'), 'w') as log:\n",
        "  # Training\n",
        "  model.train()\n",
        "  for iter, (img, label) in enumerate(qd_train_dataloader):\n",
        "    # optimizer에 저장된 미분값을 0으로 초기화\n",
        "    optimizer_ft.zero_grad()\n",
        "\n",
        "    # GPU 연산을 위해 이미지와 정답 tensor를 GPU로 보내기 (필요한 경우, 변수의 type도 수정해주세요)\n",
        "    img, label = img.float().cuda(), label.long().cuda()\n",
        "  \n",
        "    # 모델에 이미지 forward\n",
        "    pred_logit = model(img)\n",
        "\n",
        "    # loss 값 계산\n",
        "    loss = criterion(pred_logit, label)\n",
        "\n",
        "    # Backpropagation\n",
        "    loss.backward()\n",
        "    optimizer_ft.step()\n",
        "\n",
        "    # Accuracy 계산\n",
        "    pred_label = torch.argmax(pred_logit, 1)\n",
        "    acc = (pred_label == label).sum().item() / len(img)\n",
        "\n",
        "    train_loss = loss.item()\n",
        "    train_acc = acc\n",
        "\n",
        "    # Validation for every 20 epoch\n",
        "    if (iter % 20 == 0) or (iter == len(qd_train_dataloader)-1):\n",
        "      model.eval()\n",
        "      valid_loss, valid_acc = AverageMeter(), AverageMeter()\n",
        "\n",
        "      for img, label in qd_val_dataloader:\n",
        "        # GPU 연산을 위해 이미지와 정답 tensor를 GPU로 보내기 (필요한 경우, 변수의 type도 수정해주세요)\n",
        "        img, label = img.float().cuda(), label.long().cuda()\n",
        "\n",
        "        # 모델에 이미지 forward (gradient 계산 X)\n",
        "        with torch.no_grad():\n",
        "          pred_logit = model(img)\n",
        "\n",
        "        # loss 값 계산\n",
        "        loss = criterion(pred_logit, label)\n",
        "\n",
        "        # Accuracy 계산\n",
        "        pred_label = torch.argmax(pred_logit, 1)\n",
        "        acc = (pred_label == label).sum().item() / len(img)\n",
        "        valid_loss.update(loss.item(), len(img))\n",
        "        valid_acc.update(acc, len(img))\n",
        "\n",
        "      valid_loss = valid_loss.avg\n",
        "      valid_acc = valid_acc.avg\n",
        "\n",
        "      print(\"Iter [%3d/%3d] | Train Loss %.4f | Train Acc %.4f | Valid Loss %.4f | Valid Acc %.4f\" %\n",
        "            (iter, len(qd_train_dataloader), train_loss, train_acc, valid_loss, valid_acc))\n",
        "      \n",
        "      # Train Log Writing\n",
        "      log.write('%d,%.4f,%.4f,%.4f,%.4f\\n'%(iter, train_loss, train_acc, valid_loss, valid_acc))"
      ],
      "outputs": [
        {
          "output_type": "stream",
          "name": "stdout",
          "text": [
            "Iter [  0/422] | Train Loss 2.3444 | Train Acc 0.0938 | Valid Loss 2.1948 | Valid Acc 0.2940\n",
            "Iter [ 20/422] | Train Loss 0.5557 | Train Acc 0.8125 | Valid Loss 0.5276 | Valid Acc 0.8333\n",
            "Iter [ 40/422] | Train Loss 0.2118 | Train Acc 0.9531 | Valid Loss 0.3109 | Valid Acc 0.9090\n",
            "Iter [ 60/422] | Train Loss 0.4346 | Train Acc 0.8594 | Valid Loss 0.3153 | Valid Acc 0.9060\n",
            "Iter [ 80/422] | Train Loss 0.1326 | Train Acc 0.9688 | Valid Loss 0.3112 | Valid Acc 0.9127\n",
            "Iter [100/422] | Train Loss 0.1784 | Train Acc 0.9219 | Valid Loss 0.2813 | Valid Acc 0.9150\n",
            "Iter [120/422] | Train Loss 0.2304 | Train Acc 0.9219 | Valid Loss 0.2677 | Valid Acc 0.9243\n",
            "Iter [140/422] | Train Loss 0.2770 | Train Acc 0.9375 | Valid Loss 0.2564 | Valid Acc 0.9217\n",
            "Iter [160/422] | Train Loss 0.1425 | Train Acc 0.9688 | Valid Loss 0.2326 | Valid Acc 0.9330\n",
            "Iter [180/422] | Train Loss 0.1432 | Train Acc 0.9531 | Valid Loss 0.2387 | Valid Acc 0.9317\n",
            "Iter [200/422] | Train Loss 0.0649 | Train Acc 0.9844 | Valid Loss 0.2622 | Valid Acc 0.9223\n",
            "Iter [220/422] | Train Loss 0.1782 | Train Acc 0.9375 | Valid Loss 0.2642 | Valid Acc 0.9163\n",
            "Iter [240/422] | Train Loss 0.0637 | Train Acc 0.9844 | Valid Loss 0.2357 | Valid Acc 0.9303\n",
            "Iter [260/422] | Train Loss 0.2866 | Train Acc 0.9062 | Valid Loss 0.2699 | Valid Acc 0.9210\n",
            "Iter [280/422] | Train Loss 0.1997 | Train Acc 0.9375 | Valid Loss 0.2261 | Valid Acc 0.9297\n",
            "Iter [300/422] | Train Loss 0.1267 | Train Acc 0.9844 | Valid Loss 0.2202 | Valid Acc 0.9330\n",
            "Iter [320/422] | Train Loss 0.1574 | Train Acc 0.9219 | Valid Loss 0.2754 | Valid Acc 0.9187\n",
            "Iter [340/422] | Train Loss 0.1708 | Train Acc 0.9219 | Valid Loss 0.2270 | Valid Acc 0.9333\n",
            "Iter [360/422] | Train Loss 0.1557 | Train Acc 0.9531 | Valid Loss 0.2232 | Valid Acc 0.9323\n",
            "Iter [380/422] | Train Loss 0.2878 | Train Acc 0.8750 | Valid Loss 0.2041 | Valid Acc 0.9393\n",
            "Iter [400/422] | Train Loss 0.0775 | Train Acc 0.9688 | Valid Loss 0.1983 | Valid Acc 0.9370\n",
            "Iter [420/422] | Train Loss 0.1522 | Train Acc 0.9531 | Valid Loss 0.2312 | Valid Acc 0.9300\n",
            "Iter [421/422] | Train Loss 0.2093 | Train Acc 0.9464 | Valid Loss 0.2343 | Valid Acc 0.9307\n"
          ]
        }
      ],
      "metadata": {
        "colab": {
          "base_uri": "https://localhost:8080/"
        },
        "id": "zA8Kwg4MHfjE",
        "outputId": "1b449db3-5a12-4405-97e8-dbdafdfed4c0"
      }
    },
    {
      "cell_type": "code",
      "execution_count": null,
      "source": [
        "# Visualize training log\n",
        "augmentation_train_log = pd.read_csv(os.path.join(log_dir, 'augmentation_train_log.csv'), index_col=0, header=None)\n",
        "fig, ax = plt.subplots()\n",
        "ax.plot(augmentation_train_log.iloc[:,0], label='Training with augmentation')\n",
        "ax.set_xlabel('Iteration', fontsize=15)\n",
        "ax.set_ylabel('Loss', fontsize=15)\n",
        "\n",
        "fig.legend(fontsize=15)\n",
        "\n",
        "plt.show()"
      ],
      "outputs": [
        {
          "output_type": "display_data",
          "data": {
            "image/png": "[encoded data removed]",
            "text/plain": [
              "<Figure size 432x288 with 1 Axes>"
            ]
          },
          "metadata": {
            "needs_background": "light"
          }
        }
      ],
      "metadata": {
        "colab": {
          "base_uri": "https://localhost:8080/",
          "height": 311
        },
        "id": "9CVsDSnrO4VL",
        "outputId": "5cca0e52-35de-4f69-9f31-ce9e7c03e177"
      }
    },
    {
      "cell_type": "markdown",
      "source": [
        "## Some other methods to improve model performance\n",
        "Augmentation을 적용한 모델의 결과가 더 좋아졌나요? 성능이 향상되었다면 축하드리며, 성능이 좋아지지 않거나 오히려 나빠졌더라도 괜찮습니다. 중요한 것은 augmentation으로 이 과제 코드에서 성능을 얼마나 올렸는지가 아니라, 다음에 다른 dataset, 다른 model로 학습을 진행할 때 필요한 augmentation을 생각해낼 수 있는 나름의 성공/실패 경험과 이유를 만드는 것이기 때문입니다.\n",
        "\n",
        "데이터의 특성 및 모델의 특성을 반영할 수 있는 몇가지 추가 질문들입니다. 아래 질문들에 대해 나름의 답을 생각해보시고, 직접 실험해보면서 다음에 새로운 데이터셋과 모델을 만난다면 어떤 augmentation을 왜 적용해야 할지, 나름대로의 이유를 생각해보시고, 실험해보시고, 다른 캠퍼분들과 토의해보세요.\n",
        "\n",
        "1. Quickdraw dataset은 상당히 얇은 선의 이미지들로 이루어졌습니다. 이런 경우, blur augmentation을 적용해 이미지를 넓게 만들어주는 것이 성능 향상에 도움이 될 수 있습니다. 왜 blur augmentation이 모델 성능 향상에 도움이 되는지 생각해보세요. Hint) 이미지가 얇은 선으로 이루어져 있다는 것은 빈 공간이 많다는 뜻이고, 이는 곧 layer의 input으로 0이 상당히 많이 들어간다는 뜻입니다.\n",
        "\n",
        "2. Augmentation의 효과를 더욱 크게 하기 위해서는, 구현의 편의를 위해 (224, 224)로 image를 resize하는 대신 훨씬 작은 원본 이미지 크기를 사용하는 것이 좋을 수 있습니다. 위 blur augmentation이 (224,224)에서 효과가 적은 이유에 대해서 고민해보세요. Hint) CNN의 convolution filter 의 사이즈와 연관이 있습니다.\n",
        "\n",
        "3. Augmentation의 순서 역시 중요한 요소가 될 수 있습니다. Blur를 먼저 적용하고 크게 resize하는 경우와 resize를 먼저 하고 blur를 적용하는 경우, 이미지가 어떻게 달라질지 예상해보시고, 실제 augmentation package에 따라 결과가 어떻게 나타나는지도 확인해보세요. 그리고 Geometric augmentation의 경우에 대해서도 순서가 어떻게 영향을 미칠지 생각해보세요. \n",
        "\n",
        "4. Augmentation을 적용했음에도, convolution layers를 고정하고 linear classifier만 새로 학습하는 fine-tuning을 수행하면 augmentation의 효과가 떨어질 수 있습니다. 그 이유에 대해 생각해보세요.\n",
        "\n",
        "**TO DO (3-1)** : 위 further question에 대해 고민해보고, 직접 실험해보며 결과를 확인해보세요. "
      ],
      "metadata": {
        "id": "P59NogT7GPDR"
      }
    }
  ]
}