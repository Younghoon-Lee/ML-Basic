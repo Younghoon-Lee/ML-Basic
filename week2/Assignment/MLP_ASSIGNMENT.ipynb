{
 "cells": [
  {
   "cell_type": "code",
   "execution_count": 4,
   "metadata": {
    "colab": {
     "base_uri": "https://localhost:8080/"
    },
    "id": "nmfT10Evx7Ng",
    "outputId": "66a344c4-8f27-4e7c-ca05-a86e25abebc6"
   },
   "outputs": [
    {
     "name": "stdout",
     "output_type": "stream",
     "text": [
      "Requirement already satisfied: torchvision in /usr/local/lib/python3.7/dist-packages (0.10.0+cu102)\n",
      "Requirement already satisfied: pillow>=5.3.0 in /usr/local/lib/python3.7/dist-packages (from torchvision) (7.1.2)\n",
      "Requirement already satisfied: numpy in /usr/local/lib/python3.7/dist-packages (from torchvision) (1.19.5)\n",
      "Requirement already satisfied: torch==1.9.0 in /usr/local/lib/python3.7/dist-packages (from torchvision) (1.9.0+cu102)\n",
      "Requirement already satisfied: typing-extensions in /usr/local/lib/python3.7/dist-packages (from torch==1.9.0->torchvision) (3.7.4.3)\n"
     ]
    }
   ],
   "source": [
    "!pip install torchvision"
   ]
  },
  {
   "cell_type": "code",
   "execution_count": 2,
   "metadata": {
    "colab": {
     "base_uri": "https://localhost:8080/"
    },
    "id": "Qrnx5qGuyW6L",
    "outputId": "4760119f-495a-4a7f-c828-001623e7affb"
   },
   "outputs": [
    {
     "name": "stdout",
     "output_type": "stream",
     "text": [
      "PyTorch Version: 1.9.0+cu102\n",
      "device:cuda:0\n"
     ]
    }
   ],
   "source": [
    "import numpy as np\n",
    "import matplotlib.pyplot as plt\n",
    "import torch\n",
    "import torch.nn as nn\n",
    "import torch.optim as optim\n",
    "import torch.nn.functional as F\n",
    "%matplotlib inline\n",
    "%config InlineBackend.figure_format='retina'\n",
    "print(\"PyTorch Version: {}\".format(torch.__version__))\n",
    "device = torch.device('cuda:0' if torch.cuda.is_available() else 'cpu')\n",
    "print(\"device:{}\".format(device))\n"
   ]
  },
  {
   "cell_type": "markdown",
   "metadata": {
    "id": "crsOU7azzztE"
   },
   "source": [
    "**Dataset**\n",
    "\n"
   ]
  },
  {
   "cell_type": "code",
   "execution_count": 9,
   "metadata": {
    "colab": {
     "base_uri": "https://localhost:8080/"
    },
    "id": "o_g-mGJ3zu9v",
    "outputId": "8e10586c-f655-49ad-ee12-613100c62bdf"
   },
   "outputs": [
    {
     "name": "stdout",
     "output_type": "stream",
     "text": [
      "mnist_train:\n",
      " Dataset MNIST\n",
      "    Number of datapoints: 60000\n",
      "    Root location: ./data/\n",
      "    Split: Train\n",
      "    StandardTransform\n",
      "Transform: ToTensor() \n",
      "\n",
      "mnist_test:\\m Dataset MNIST\n",
      "    Number of datapoints: 10000\n",
      "    Root location: ./data/\n",
      "    Split: Test\n",
      "    StandardTransform\n",
      "Transform: ToTensor() \n",
      "\n",
      "Done .\n"
     ]
    }
   ],
   "source": [
    "from torchvision import datasets, transforms\n",
    "mnist_train = datasets.MNIST(root='./data/',train=True, transform=transforms.ToTensor(),download=True)\n",
    "mnist_test = datasets.MNIST(root='./data/',train=False, transform=transforms.ToTensor(),download=True)\n",
    "print(\"mnist_train:\\n\",mnist_train,\"\\n\")\n",
    "print(\"mnist_test:\\m\",mnist_test,\"\\n\")\n",
    "print(\"Done .\")"
   ]
  },
  {
   "cell_type": "code",
   "execution_count": 36,
   "metadata": {
    "colab": {
     "base_uri": "https://localhost:8080/"
    },
    "id": "BnyGjEChMfR9",
    "outputId": "fa41ad73-62fa-4ebb-c0a6-d852437955b6"
   },
   "outputs": [
    {
     "name": "stdout",
     "output_type": "stream",
     "text": [
      "235\n"
     ]
    }
   ],
   "source": [
    "BATCH_SIZE = 256\n",
    "train_iter = torch.utils.data.DataLoader(mnist_train, batch_size=BATCH_SIZE, shuffle=True, num_workers=1)\n",
    "test_iter = torch.utils.data.DataLoader(mnist_test, batch_size=BATCH_SIZE, shuffle=True, num_workers=1)\n",
    "print(len(train_iter))\n"
   ]
  },
  {
   "cell_type": "code",
   "execution_count": 13,
   "metadata": {
    "colab": {
     "base_uri": "https://localhost:8080/"
    },
    "id": "wjzrQ4-RNwPi",
    "outputId": "f5da20e1-b7ab-4945-925b-5df6ac3dbd91"
   },
   "outputs": [
    {
     "name": "stdout",
     "output_type": "stream",
     "text": [
      "Done. \n"
     ]
    }
   ],
   "source": [
    "class MultiLayerPerceptronClass(nn.Module):\n",
    "\n",
    "  def __init__(self, name='mlp',xdim=784, hdim=256, ydim=10):\n",
    "    super(MultiLayerPerceptronClass,self).__init__()\n",
    "    self.name = name\n",
    "    self.xdim = xdim\n",
    "    self.hdim = hdim\n",
    "    self.ydim = ydim\n",
    "    self.lin_1 = nn.Linear(self.xdim, self.hdim)\n",
    "    self.lin_2 = nn.Linear(self.hdim, self.ydim)\n",
    "    self.init_param() \n",
    "  \n",
    "  def init_param(self):\n",
    "    nn.init.kaiming_normal_(self.lin_1.weight)\n",
    "    nn.init.zeros_(self.lin_1.bias)\n",
    "    nn.init.kaiming_normal_(self.lin_2.weight)\n",
    "    nn.init.zeros_(self.lin_2.bias)\n",
    "\n",
    "  def forward(self,x):\n",
    "    net = x\n",
    "    net = self.lin_1(net)\n",
    "    net = F.relu(net)\n",
    "    net = self.lin_2(net)\n",
    "    return net\n",
    "\n",
    "M = MultiLayerPerceptronClass().to(device)\n",
    "loss = nn.CrossEntropyLoss()\n",
    "optm = optim.Adam(M.parameters(),lr=1e-3)\n",
    "print('Done. ')"
   ]
  },
  {
   "cell_type": "code",
   "execution_count": 15,
   "metadata": {
    "colab": {
     "base_uri": "https://localhost:8080/"
    },
    "id": "wz3-wFxKR8ib",
    "outputId": "333d9f83-8852-4844-d998-d2c96835e47c"
   },
   "outputs": [
    {
     "name": "stdout",
     "output_type": "stream",
     "text": [
      "x_numpy:\n",
      " [[0.15072384 0.69619631 0.31769105 ... 0.67130337 0.57108279 0.3385851 ]\n",
      " [0.30202186 0.13829642 0.85861762 ... 0.89334555 0.05093231 0.36823652]]\n",
      "x_torch:\n",
      " tensor([[0.1507, 0.6962, 0.3177,  ..., 0.6713, 0.5711, 0.3386],\n",
      "        [0.3020, 0.1383, 0.8586,  ..., 0.8933, 0.0509, 0.3682]],\n",
      "       device='cuda:0')\n",
      "y_torch:\n",
      " tensor([[-0.7171, -0.5695, -1.0649,  1.1261,  1.0055, -0.7426, -0.1303, -0.7589,\n",
      "         -0.9802, -0.4953],\n",
      "        [-0.5963, -1.0310, -0.3036,  0.9328,  1.0651, -1.7794, -0.0317, -0.3702,\n",
      "         -0.8271, -0.2572]], device='cuda:0', grad_fn=<AddmmBackward>)\n",
      "y_numpy:\n",
      " [[-0.71714914 -0.56953394 -1.0649097   1.1260903   1.0055251  -0.7426313\n",
      "  -0.13029192 -0.75894374 -0.980213   -0.49532208]\n",
      " [-0.59634304 -1.0310189  -0.30364797  0.93282646  1.0650982  -1.7794006\n",
      "  -0.03172261 -0.37019533 -0.82713926 -0.25716558]]\n"
     ]
    }
   ],
   "source": [
    "x_numpy = np.random.rand(2,784)\n",
    "x_torch = torch.from_numpy(x_numpy).float().to(device)\n",
    "y_torch = M.forward(x_torch)\n",
    "y_numpy = y_torch.detach().cpu().numpy()\n",
    "print(\"x_numpy:\\n\",x_numpy)\n",
    "print(\"x_torch:\\n\", x_torch)\n",
    "print(\"y_torch:\\n\", y_torch)\n",
    "print(\"y_numpy:\\n\", y_numpy)\n"
   ]
  },
  {
   "cell_type": "markdown",
   "metadata": {
    "id": "a9l-bxCVUGl3"
   },
   "source": [
    "**chcek Params**"
   ]
  },
  {
   "cell_type": "code",
   "execution_count": 27,
   "metadata": {
    "colab": {
     "base_uri": "https://localhost:8080/"
    },
    "id": "g4M9UwwKUFzY",
    "outputId": "f6d2b493-d019-4048-d33e-3dc5a1b90de4"
   },
   "outputs": [
    {
     "name": "stdout",
     "output_type": "stream",
     "text": [
      "[0] name: [lin_1.weight] shape: [(256, 784)]\n",
      "    val: [-0.042  0.036  0.064  0.062 -0.031]\n",
      "[1] name: [lin_1.bias] shape: [(256,)]\n",
      "    val: [0. 0. 0. 0. 0.]\n",
      "[2] name: [lin_2.weight] shape: [(10, 256)]\n",
      "    val: [ 0.038  0.112 -0.14   0.18  -0.035]\n",
      "[3] name: [lin_2.bias] shape: [(10,)]\n",
      "    val: [0. 0. 0. 0. 0.]\n",
      "Total number of parameters:[203,530]\n"
     ]
    }
   ],
   "source": [
    "np.set_printoptions(precision=3)\n",
    "n_param = 0\n",
    "for p_idx, (param_name, param) in enumerate(M.named_parameters()):\n",
    "  param_numpy = param.detach().cpu().numpy()\n",
    "  n_param += len(param_numpy.reshape(-1))\n",
    "  print(\"[%d] name: [%s] shape: [%s]\"%(p_idx,param_name,param_numpy.shape))\n",
    "  print(\"    val: %s\"%(param_numpy.reshape(-1)[:5]))\n",
    "print(\"Total number of parameters:[%s]\"%(format(n_param,',d')))"
   ]
  },
  {
   "cell_type": "markdown",
   "metadata": {
    "id": "Z50FlMCDXhQU"
   },
   "source": [
    "**Evaluation Function**"
   ]
  },
  {
   "cell_type": "code",
   "execution_count": 30,
   "metadata": {
    "colab": {
     "base_uri": "https://localhost:8080/"
    },
    "id": "mJ49xBjJXMGL",
    "outputId": "f5db71c8-c401-42b8-caad-1a97be58b650"
   },
   "outputs": [
    {
     "name": "stdout",
     "output_type": "stream",
     "text": [
      " DONE \n"
     ]
    }
   ],
   "source": [
    "def func_eval(model, data_iter, device):\n",
    "  with torch.no_grad():\n",
    "    model.eval()\n",
    "    n_total, n_correct = 0, 0\n",
    "    for batch_in, batch_out in data_iter:\n",
    "      y_trgt = batch_out.to(device)\n",
    "      model_pred = model(batch_in.view(-1,28*28).to(device))\n",
    "      _,y_pred = torch.max(model_pred.data,1)\n",
    "      n_correct += (y_pred==y_trgt).sum().item()\n",
    "      n_total += batch_in.size(0)\n",
    "    val_accr = (n_correct/n_total)\n",
    "    model.train()\n",
    "    return val_accr\n",
    "print(\" DONE \")\n"
   ]
  },
  {
   "cell_type": "code",
   "execution_count": 32,
   "metadata": {
    "colab": {
     "base_uri": "https://localhost:8080/"
    },
    "id": "jnycGRScgeok",
    "outputId": "ca51b44f-5c69-416d-cc03-942457db2c25"
   },
   "outputs": [
    {
     "name": "stdout",
     "output_type": "stream",
     "text": [
      "train_accr:[0.111] test_accr:[0.111]\n"
     ]
    }
   ],
   "source": [
    "train_accr = func_eval(M, train_iter, device)\n",
    "test_accr = func_eval(M,test_iter, device)\n",
    "print( \"train_accr:[%.3f] test_accr:[%.3f]\"%(train_accr,test_accr))\n"
   ]
  },
  {
   "cell_type": "code",
   "execution_count": 37,
   "metadata": {
    "colab": {
     "base_uri": "https://localhost:8080/"
    },
    "id": "JdDTv4nQg9_v",
    "outputId": "7d700ee4-ea68-4125-d46c-b3ce026726d2"
   },
   "outputs": [
    {
     "name": "stdout",
     "output_type": "stream",
     "text": [
      "Start training\n",
      "epoch:[0] loss[0.388] train_accr:[0.943] test_accr:[0.942]\n",
      "epoch:[1] loss[0.169] train_accr:[0.965] test_accr:[0.959]\n",
      "epoch:[2] loss[0.118] train_accr:[0.974] test_accr:[0.970]\n",
      "epoch:[3] loss[0.091] train_accr:[0.980] test_accr:[0.973]\n",
      "epoch:[4] loss[0.072] train_accr:[0.985] test_accr:[0.974]\n",
      "epoch:[5] loss[0.058] train_accr:[0.988] test_accr:[0.976]\n",
      "epoch:[6] loss[0.049] train_accr:[0.989] test_accr:[0.976]\n",
      "epoch:[7] loss[0.040] train_accr:[0.992] test_accr:[0.978]\n",
      "epoch:[8] loss[0.033] train_accr:[0.994] test_accr:[0.979]\n",
      "epoch:[9] loss[0.029] train_accr:[0.994] test_accr:[0.979]\n",
      "DONE\n"
     ]
    }
   ],
   "source": [
    "print(\"Start training\")\n",
    "M.init_param()\n",
    "M.train()\n",
    "EPOCHS, print_every = 10, 1\n",
    "for epoch in range(EPOCHS):\n",
    "  loss_val_sum = 0\n",
    "  for batch_in, batch_out in train_iter:\n",
    "    y_pred = M.forward(batch_in.view(-1,28*28).to(device))\n",
    "    loss_out = loss(y_pred,batch_out.to(device))\n",
    "    optm.zero_grad()\n",
    "    loss_out.backward()\n",
    "    optm.step()\n",
    "    loss_val_sum += loss_out\n",
    "  loss_val_avg = loss_val_sum/len(train_iter)\n",
    "  if ((epoch%print_every)==0) or (epoch==(EPOCHS-1)):\n",
    "    train_accr = func_eval(M, train_iter,device)\n",
    "    test_accr = func_eval(M,test_iter,device)\n",
    "    print(\"epoch:[%d] loss[%.3f] train_accr:[%.3f] test_accr:[%.3f]\"%(epoch,loss_val_avg,train_accr,test_accr))\n",
    "print(\"DONE\")  \n",
    "   "
   ]
  },
  {
   "cell_type": "code",
   "execution_count": 38,
   "metadata": {
    "colab": {
     "base_uri": "https://localhost:8080/",
     "height": 608
    },
    "id": "t_BUdbdAkeCt",
    "outputId": "feaa0a55-bc42-4fab-9cfc-2ae5cf2b6cbf"
   },
   "outputs": [
    {
     "data": {
      "image/png": "[encoded data removed]",
      "text/plain": [
       "<Figure size 720x720 with 25 Axes>"
      ]
     },
     "metadata": {
      "image/png": {
       "height": 573,
       "width": 569
      },
      "needs_background": "light",
      "tags": []
     },
     "output_type": "display_data"
    },
    {
     "name": "stdout",
     "output_type": "stream",
     "text": [
      "Done\n"
     ]
    }
   ],
   "source": [
    "n_sample = 25\n",
    "sample_indices = np.random.choice(len(mnist_test.targets),n_sample, replace=False)\n",
    "test_x = mnist_test.data[sample_indices]\n",
    "test_y = mnist_test.targets[sample_indices]\n",
    "with torch.no_grad():\n",
    "  y_pred = M.forward(test_x.view(-1,28*28).type(torch.float).to(device))\n",
    "y_pred = y_pred.argmax(axis=1)\n",
    "plt.figure(figsize=(10,10))\n",
    "for idx in range(n_sample):\n",
    "  plt.subplot(5 , 5 , idx+1)\n",
    "  plt.imshow(test_x[idx],cmap='gray')\n",
    "  plt.axis('off')\n",
    "  plt.title(\"Pred:%d, Label:%d\"%(y_pred[idx],test_y[idx]))\n",
    "plt.show()\n",
    "print(\"Done\")\n"
   ]
  }
 ],
 "metadata": {
  "accelerator": "GPU",
  "colab": {
   "collapsed_sections": [],
   "name": "MLP_ASSIGNMENT.ipynb",
   "provenance": []
  },
  "kernelspec": {
   "display_name": "Python 3 (ipykernel)",
   "language": "python",
   "name": "python3"
  },
  "language_info": {
   "codemirror_mode": {
    "name": "ipython",
    "version": 3
   },
   "file_extension": ".py",
   "mimetype": "text/x-python",
   "name": "python",
   "nbconvert_exporter": "python",
   "pygments_lexer": "ipython3",
   "version": "3.8.7"
  }
 },
 "nbformat": 4,
 "nbformat_minor": 1
}
