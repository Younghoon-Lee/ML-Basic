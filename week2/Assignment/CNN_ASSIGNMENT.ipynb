{
  "nbformat": 4,
  "nbformat_minor": 0,
  "metadata": {
    "colab": {
      "name": "cnn.ipynb",
      "provenance": []
    },
    "kernelspec": {
      "name": "python3",
      "display_name": "Python 3"
    },
    "language_info": {
      "name": "python"
    },
    "accelerator": "GPU"
  },
  "cells": [
    {
      "cell_type": "markdown",
      "metadata": {
        "id": "GajEPH6S6r02"
      },
      "source": [
        ">**Convolutional Neural Network (CNN)**"
      ]
    },
    {
      "cell_type": "code",
      "metadata": {
        "colab": {
          "base_uri": "https://localhost:8080/"
        },
        "id": "ELMOp5NN6yhr",
        "outputId": "5a17a619-1b72-4cf6-d020-c2c2ea83cb93"
      },
      "source": [
        "import numpy as np\n",
        "import matplotlib.pyplot as plt\n",
        "import torch\n",
        "import torch.nn as nn\n",
        "import torch.optim as optim\n",
        "import torch.nn.functional as F\n",
        "%matplotlib inline\n",
        "%config InlineBackend.figure_format='retina'\n",
        "print(\"PyTorch version {}\".format(torch.__version__))\n",
        "device = torch.device('cuda:0' if torch.cuda.is_available() else 'cpu')\n",
        "print(\"device: {}\".format(device))"
      ],
      "execution_count": 3,
      "outputs": [
        {
          "output_type": "stream",
          "text": [
            "PyTorch version 1.9.0+cu102\n",
            "device: cuda:0\n"
          ],
          "name": "stdout"
        }
      ]
    },
    {
      "cell_type": "markdown",
      "metadata": {
        "id": "WrwdAf-j7GdR"
      },
      "source": [
        ">**Dataset**"
      ]
    },
    {
      "cell_type": "code",
      "metadata": {
        "colab": {
          "base_uri": "https://localhost:8080/"
        },
        "id": "HG4_CJS66xPi",
        "outputId": "c5877083-0b80-4a5b-cf90-4d6ca2f72a2c"
      },
      "source": [
        "from torchvision import datasets, transforms\n",
        "mnist_train = datasets.MNIST(root='./data/',train=True, transform=transforms.ToTensor(), download=True)\n",
        "mnist_test = datasets.MNIST(root='./data/',train=False, transform=transforms.ToTensor(), download=True)\n",
        "print(\"mnist_train:\\n\",mnist_train,'\\n')\n",
        "print(\"mnist_test:\\n\",mnist_test,'\\n')\n",
        "print(\"Done\")"
      ],
      "execution_count": 35,
      "outputs": [
        {
          "output_type": "stream",
          "text": [
            "mnist_train:\n",
            " Dataset MNIST\n",
            "    Number of datapoints: 60000\n",
            "    Root location: ./data/\n",
            "    Split: Train\n",
            "    StandardTransform\n",
            "Transform: ToTensor() \n",
            "\n",
            "mnist_test:\n",
            " Dataset MNIST\n",
            "    Number of datapoints: 10000\n",
            "    Root location: ./data/\n",
            "    Split: Test\n",
            "    StandardTransform\n",
            "Transform: ToTensor() \n",
            "\n",
            "Done\n"
          ],
          "name": "stdout"
        }
      ]
    },
    {
      "cell_type": "code",
      "metadata": {
        "colab": {
          "base_uri": "https://localhost:8080/"
        },
        "id": "3MkrlFoRtb8R",
        "outputId": "a3851824-d875-4fb6-8cfa-14d84dc74fec"
      },
      "source": [
        "BATCH_SIZE = 256\n",
        "train_iter = torch.utils.data.DataLoader(mnist_train,batch_size=BATCH_SIZE,shuffle=True,num_workers=1)\n",
        "test_iter = torch.utils.data.DataLoader(mnist_test,batch_size=BATCH_SIZE,shuffle=True,num_workers=1)\n",
        "print (\"Done.\")"
      ],
      "execution_count": 36,
      "outputs": [
        {
          "output_type": "stream",
          "text": [
            "Done.\n"
          ],
          "name": "stdout"
        }
      ]
    },
    {
      "cell_type": "markdown",
      "metadata": {
        "id": "KJXrPuZr8Alu"
      },
      "source": [
        ">**DEFINE MODEL**"
      ]
    },
    {
      "cell_type": "code",
      "metadata": {
        "colab": {
          "base_uri": "https://localhost:8080/"
        },
        "id": "z2RxdgW38CX7",
        "outputId": "7c1ea181-fed0-4044-f50f-f6cd91e5bcbb"
      },
      "source": [
        "class ConvolutionalNeuralNetworkClass(nn.Module):\n",
        "\n",
        "  def __init__(self,name='cnn',xdim=[1,28,28],ksize=3,cdims=[32,64],hdims=[1024,128],ydim=10,USE_BATCHNORM=False):\n",
        "    super(ConvolutionalNeuralNetworkClass,self).__init__()\n",
        "    self.name=name\n",
        "    self.xdim = xdim\n",
        "    self.ksize = ksize\n",
        "    self.cdims = cdims\n",
        "    self.hdims = hdims\n",
        "    self.ydim = ydim\n",
        "    self.USE_BATCHNORM = USE_BATCHNORM\n",
        "\n",
        "    self.layers = []\n",
        "    prev_cdim = self.xdim[0]\n",
        "    for cdim in self.cdims:\n",
        "      self.layers.append(\n",
        "          nn.Conv2d(in_channels=prev_cdim,\n",
        "                    out_channels=cdim,\n",
        "                    kernel_size=self.ksize,\n",
        "                    stride=(1,1),\n",
        "                    padding=self.ksize//2)\n",
        "      )\n",
        "      if self.USE_BATCHNORM:\n",
        "        self.layers.append(nn.BatchNorm2d(cdim))\n",
        "\n",
        "      self.layers.append(nn.ReLU(True))\n",
        "      self.layers.append(nn.MaxPool2d(kernel_size=(2,2), stride=(2,2))) # max-pooling\n",
        "      self.layers.append(nn.Dropout2d(p=0.5))\n",
        "      prev_cdim = cdim\n",
        "      \n",
        "    #Dense layers\n",
        "    self.layers.append(nn.Flatten())\n",
        "    prev_hdim = prev_cdim * (self.xdim[1]//(2**len(self.cdims))) * (self.xdim[2]//(2**len(self.cdims)))\n",
        "    for hdim in self.hdims:\n",
        "      self.layers.append(nn.Linear(\n",
        "          prev_hdim, hdim, bias=True\n",
        "      ))\n",
        "      self.layers.append(nn.ReLU(True)) # activation\n",
        "      prev_hdim = hdim\n",
        "\n",
        "    #Final layer(no activation function)\n",
        "    self.layers.append(nn.Linear(prev_hdim,self.ydim,bias=True))\n",
        "\n",
        "    self.net = nn.Sequential()\n",
        "    for l_idx, layer in enumerate(self.layers):\n",
        "      layer_name = \"%s_%02d\"%(type(layer).__name__.lower(),l_idx)\n",
        "      self.net.add_module(layer_name,layer)\n",
        "    self.init_param()\n",
        "\n",
        "  def init_param(self):\n",
        "    for m in self.modules():\n",
        "      if isinstance(m, nn.Conv2d):\n",
        "        nn.init.kaiming_normal_(m.weight)\n",
        "        nn.init.zeros_(m.bias)\n",
        "      elif isinstance(m, nn.BatchNorm2d):\n",
        "        nn.init.constant_(m.weight, 1)\n",
        "        nn.init.constant_(m.bias,0)\n",
        "      elif isinstance(m, nn.Linear):\n",
        "        nn.init.kaiming_normal_(m.weight)\n",
        "        nn.init.zeros_(m.bias)\n",
        "\n",
        "  def forward(self,x):\n",
        "    return self.net(x)\n",
        "\n",
        "C = ConvolutionalNeuralNetworkClass(name='cnn',xdim=[1,28,28],ksize=3,cdims=[32,64],hdims=[32],ydim=10).to(device)\n",
        "loss = nn.CrossEntropyLoss()\n",
        "optm = optim.Adam(C.parameters(), lr=1e-3)\n",
        "print(\"Done\")"
      ],
      "execution_count": 28,
      "outputs": [
        {
          "output_type": "stream",
          "text": [
            "Done\n"
          ],
          "name": "stdout"
        }
      ]
    },
    {
      "cell_type": "code",
      "metadata": {
        "colab": {
          "base_uri": "https://localhost:8080/"
        },
        "id": "ipsnyweN6pAU",
        "outputId": "6dff1f62-05aa-4d71-8050-44af038168a1"
      },
      "source": [
        "np.set_printoptions(precision=3)\n",
        "n_param = 0\n",
        "for p_idx,(param_name,param) in enumerate(C.named_parameters()):\n",
        "    if param.requires_grad:\n",
        "        param_numpy = param.detach().cpu().numpy() # to numpy array \n",
        "        n_param += len(param_numpy.reshape(-1))\n",
        "        print (\"[%d] name:[%s] shape:[%s].\"%(p_idx,param_name,param_numpy.shape))\n",
        "        print (\"    val:%s\"%(param_numpy.reshape(-1)[:5]))\n",
        "print (\"Total number of parameters:[%s].\"%(format(n_param,',d')))"
      ],
      "execution_count": 29,
      "outputs": [
        {
          "output_type": "stream",
          "text": [
            "[0] name:[net.conv2d_00.weight] shape:[(32, 1, 3, 3)].\n",
            "    val:[ 0.197  0.47   0.097 -1.16  -0.461]\n",
            "[1] name:[net.conv2d_00.bias] shape:[(32,)].\n",
            "    val:[0. 0. 0. 0. 0.]\n",
            "[2] name:[net.conv2d_04.weight] shape:[(64, 32, 3, 3)].\n",
            "    val:[ 0.069 -0.052 -0.047  0.039 -0.067]\n",
            "[3] name:[net.conv2d_04.bias] shape:[(64,)].\n",
            "    val:[0. 0. 0. 0. 0.]\n",
            "[4] name:[net.linear_09.weight] shape:[(32, 3136)].\n",
            "    val:[ 0.003  0.015 -0.022  0.019  0.031]\n",
            "[5] name:[net.linear_09.bias] shape:[(32,)].\n",
            "    val:[0. 0. 0. 0. 0.]\n",
            "[6] name:[net.linear_11.weight] shape:[(10, 32)].\n",
            "    val:[-0.013 -0.433 -0.107 -0.033 -0.244]\n",
            "[7] name:[net.linear_11.bias] shape:[(10,)].\n",
            "    val:[0. 0. 0. 0. 0.]\n",
            "Total number of parameters:[119,530].\n"
          ],
          "name": "stdout"
        }
      ]
    },
    {
      "cell_type": "code",
      "metadata": {
        "colab": {
          "base_uri": "https://localhost:8080/"
        },
        "id": "NTMjZ8z-qSg7",
        "outputId": "497dc941-077e-453e-a32e-be8d252875a3"
      },
      "source": [
        "np.set_printoptions(precision=3)\n",
        "torch.set_printoptions(precision=3)\n",
        "x_numpy = np.random.rand(2,1,28,28)\n",
        "x_torch = torch.from_numpy(x_numpy).float().to(device)\n",
        "y_torch = C.forward(x_torch) # forward path\n",
        "y_numpy = y_torch.detach().cpu().numpy() # torch tensor to numpy array\n",
        "print (\"x_torch:\\n\",x_torch)\n",
        "print (\"y_torch:\\n\",y_torch)\n",
        "print (\"\\nx_numpy %s:\\n\"%(x_numpy.shape,),x_numpy)\n",
        "print (\"y_numpy %s:\\n\"%(y_numpy.shape,),y_numpy)"
      ],
      "execution_count": 31,
      "outputs": [
        {
          "output_type": "stream",
          "text": [
            "x_torch:\n",
            " tensor([[[[0.159, 0.272, 0.005,  ..., 0.180, 0.594, 0.975],\n",
            "          [0.886, 0.676, 0.454,  ..., 0.477, 0.835, 0.172],\n",
            "          [0.789, 0.834, 0.932,  ..., 0.443, 0.098, 0.581],\n",
            "          ...,\n",
            "          [0.249, 0.796, 0.057,  ..., 0.117, 0.809, 0.110],\n",
            "          [0.472, 0.520, 0.433,  ..., 0.752, 0.828, 0.787],\n",
            "          [0.631, 0.749, 0.946,  ..., 0.801, 0.035, 0.606]]],\n",
            "\n",
            "\n",
            "        [[[0.504, 0.928, 0.759,  ..., 0.062, 0.696, 0.502],\n",
            "          [0.442, 0.859, 0.998,  ..., 0.290, 0.718, 0.416],\n",
            "          [0.317, 0.178, 0.543,  ..., 0.513, 0.544, 0.793],\n",
            "          ...,\n",
            "          [0.909, 0.775, 0.157,  ..., 0.681, 0.640, 0.749],\n",
            "          [0.770, 0.321, 0.475,  ..., 0.727, 0.374, 0.324],\n",
            "          [0.718, 0.258, 0.455,  ..., 0.926, 0.990, 0.493]]]], device='cuda:0')\n",
            "y_torch:\n",
            " tensor([[-1.270, -3.298, -6.383,  6.988,  0.327,  1.813, -2.659,  0.146, -3.522,\n",
            "          0.965],\n",
            "        [-2.648,  3.902,  2.912,  2.076, -2.884, -4.039,  1.777,  2.170,  2.541,\n",
            "         -0.822]], device='cuda:0', grad_fn=<AddmmBackward>)\n",
            "\n",
            "x_numpy (2, 1, 28, 28):\n",
            " [[[[0.159 0.272 0.005 ... 0.18  0.594 0.975]\n",
            "   [0.886 0.676 0.454 ... 0.477 0.835 0.172]\n",
            "   [0.789 0.834 0.932 ... 0.443 0.098 0.581]\n",
            "   ...\n",
            "   [0.249 0.796 0.057 ... 0.117 0.809 0.11 ]\n",
            "   [0.472 0.52  0.433 ... 0.752 0.828 0.787]\n",
            "   [0.631 0.749 0.946 ... 0.801 0.035 0.606]]]\n",
            "\n",
            "\n",
            " [[[0.504 0.928 0.759 ... 0.062 0.696 0.502]\n",
            "   [0.442 0.859 0.998 ... 0.29  0.718 0.416]\n",
            "   [0.317 0.178 0.543 ... 0.513 0.544 0.793]\n",
            "   ...\n",
            "   [0.909 0.775 0.157 ... 0.681 0.64  0.749]\n",
            "   [0.77  0.321 0.475 ... 0.727 0.374 0.324]\n",
            "   [0.718 0.258 0.455 ... 0.926 0.99  0.493]]]]\n",
            "y_numpy (2, 10):\n",
            " [[-1.27  -3.298 -6.383  6.988  0.327  1.813 -2.659  0.146 -3.522  0.965]\n",
            " [-2.648  3.902  2.912  2.076 -2.884 -4.039  1.777  2.17   2.541 -0.822]]\n"
          ],
          "name": "stdout"
        }
      ]
    },
    {
      "cell_type": "markdown",
      "metadata": {
        "id": "vDLhHWSutEaJ"
      },
      "source": [
        ">**Evaluation Function**"
      ]
    },
    {
      "cell_type": "code",
      "metadata": {
        "colab": {
          "base_uri": "https://localhost:8080/"
        },
        "id": "s9TWW2hQs1-N",
        "outputId": "560e8f2f-7ced-4e93-92dc-9ea58c6bc8ef"
      },
      "source": [
        "def func_eval(model,data_iter,device):\n",
        "    with torch.no_grad():\n",
        "        n_total,n_correct = 0,0\n",
        "        model.eval() # evaluate (affects DropOut and BN)\n",
        "        for batch_in,batch_out in data_iter:\n",
        "            y_trgt = batch_out.to(device)\n",
        "            model_pred = model(batch_in.view(-1,1,28,28).to(device))\n",
        "            _,y_pred = torch.max(model_pred.data,1)\n",
        "            n_correct += (y_pred==y_trgt).sum().item()\n",
        "            n_total += batch_in.size(0)\n",
        "        val_accr = (n_correct/n_total)\n",
        "        model.train() # back to train mode \n",
        "    return val_accr\n",
        "print (\"Done\")"
      ],
      "execution_count": 34,
      "outputs": [
        {
          "output_type": "stream",
          "text": [
            "Done\n"
          ],
          "name": "stdout"
        }
      ]
    },
    {
      "cell_type": "markdown",
      "metadata": {
        "id": "zuy6ZmOItMXM"
      },
      "source": [
        ">**Initial Evaluation**\n"
      ]
    },
    {
      "cell_type": "code",
      "metadata": {
        "colab": {
          "base_uri": "https://localhost:8080/"
        },
        "id": "8QqbPxegtLqL",
        "outputId": "bbc94757-a87e-4b28-a372-e84e90ee4d44"
      },
      "source": [
        "C.init_param() # initialize parameters\n",
        "train_accr = func_eval(C,train_iter,device)\n",
        "test_accr = func_eval(C,test_iter,device)\n",
        "print (\"train_accr:[%.3f] test_accr:[%.3f].\"%(train_accr,test_accr))"
      ],
      "execution_count": 37,
      "outputs": [
        {
          "output_type": "stream",
          "text": [
            "train_accr:[0.098] test_accr:[0.095].\n"
          ],
          "name": "stdout"
        }
      ]
    },
    {
      "cell_type": "markdown",
      "metadata": {
        "id": "cEB57Lhatlw4"
      },
      "source": [
        ">**Train**"
      ]
    },
    {
      "cell_type": "code",
      "metadata": {
        "colab": {
          "base_uri": "https://localhost:8080/"
        },
        "id": "b4W8n4tptnvn",
        "outputId": "74426291-9305-4002-aedd-94e34d95a344"
      },
      "source": [
        "print (\"Start training.\")\n",
        "C.init_param() # initialize parameters\n",
        "C.train() # to train mode \n",
        "EPOCHS,print_every = 10,1\n",
        "for epoch in range(EPOCHS):\n",
        "    loss_val_sum = 0\n",
        "    for batch_in,batch_out in train_iter:\n",
        "        # Forward path\n",
        "        y_pred = C.forward(batch_in.view(-1,1,28,28).to(device))\n",
        "        loss_out = loss(y_pred,batch_out.to(device))\n",
        "        # Update\n",
        "        optm.zero_grad()      # reset gradient \n",
        "        loss_out.backward()      # backpropagate\n",
        "        optm.step()      # optimizer update\n",
        "        loss_val_sum += loss_out\n",
        "    loss_val_avg = loss_val_sum/len(train_iter)\n",
        "    # Print\n",
        "    if ((epoch%print_every)==0) or (epoch==(EPOCHS-1)):\n",
        "        train_accr = func_eval(C,train_iter,device)\n",
        "        test_accr = func_eval(C,test_iter,device)\n",
        "        print (\"epoch:[%d] loss:[%.3f] train_accr:[%.3f] test_accr:[%.3f].\"%\n",
        "               (epoch,loss_val_avg,train_accr,test_accr))\n",
        "print (\"Done\")"
      ],
      "execution_count": 39,
      "outputs": [
        {
          "output_type": "stream",
          "text": [
            "Start training.\n",
            "epoch:[0] loss:[0.598] train_accr:[0.954] test_accr:[0.956].\n",
            "epoch:[1] loss:[0.181] train_accr:[0.973] test_accr:[0.973].\n",
            "epoch:[2] loss:[0.126] train_accr:[0.981] test_accr:[0.980].\n",
            "epoch:[3] loss:[0.103] train_accr:[0.985] test_accr:[0.985].\n",
            "epoch:[4] loss:[0.089] train_accr:[0.986] test_accr:[0.987].\n",
            "epoch:[5] loss:[0.080] train_accr:[0.988] test_accr:[0.986].\n",
            "epoch:[6] loss:[0.071] train_accr:[0.990] test_accr:[0.986].\n",
            "epoch:[7] loss:[0.067] train_accr:[0.990] test_accr:[0.987].\n",
            "epoch:[8] loss:[0.061] train_accr:[0.992] test_accr:[0.988].\n",
            "epoch:[9] loss:[0.059] train_accr:[0.992] test_accr:[0.988].\n",
            "Done\n"
          ],
          "name": "stdout"
        }
      ]
    },
    {
      "cell_type": "code",
      "metadata": {
        "colab": {
          "base_uri": "https://localhost:8080/",
          "height": 608
        },
        "id": "T5JPNCS0u6lo",
        "outputId": "d4d6c167-e9e9-4b4b-f325-75e1aa0079d5"
      },
      "source": [
        "n_sample = 25\n",
        "sample_indices = np.random.choice(len(mnist_test.targets),n_sample,replace=False)\n",
        "test_x = mnist_test.data[sample_indices]\n",
        "test_y = mnist_test.targets[sample_indices]\n",
        "with torch.no_grad():\n",
        "    C.eval() # to evaluation mode \n",
        "    y_pred = C.forward(test_x.view(-1,1,28,28).type(torch.float).to(device)/255.)\n",
        "y_pred = y_pred.argmax(axis=1)\n",
        "plt.figure(figsize=(10,10))\n",
        "for idx in range(n_sample):\n",
        "    plt.subplot(5, 5, idx+1)\n",
        "    plt.imshow(test_x[idx], cmap='gray')\n",
        "    plt.axis('off')\n",
        "    plt.title(\"Pred:%d, Label:%d\"%(y_pred[idx],test_y[idx]))\n",
        "plt.show()    \n",
        "print (\"Done\")"
      ],
      "execution_count": 43,
      "outputs": [
        {
          "output_type": "display_data",
          "data": {
            "image/png": "[encoded data removed]",
            "text/plain": [
              "<Figure size 720x720 with 25 Axes>"
            ]
          },
          "metadata": {
            "tags": [],
            "image/png": {
              "width": 569,
              "height": 573
            },
            "needs_background": "light"
          }
        },
        {
          "output_type": "stream",
          "text": [
            "Done\n"
          ],
          "name": "stdout"
        }
      ]
    }
  ]
}