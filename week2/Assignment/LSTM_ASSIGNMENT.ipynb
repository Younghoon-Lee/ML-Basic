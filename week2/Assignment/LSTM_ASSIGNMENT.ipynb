{
  "nbformat": 4,
  "nbformat_minor": 0,
  "metadata": {
    "colab": {
      "name": "Untitled0.ipynb",
      "provenance": [],
      "collapsed_sections": []
    },
    "kernelspec": {
      "name": "python3",
      "display_name": "Python 3"
    },
    "language_info": {
      "name": "python"
    },
    "accelerator": "GPU"
  },
  "cells": [
    {
      "cell_type": "code",
      "metadata": {
        "colab": {
          "base_uri": "https://localhost:8080/"
        },
        "id": "koBOKCRKisnQ",
        "outputId": "dd1cbed4-d1d3-44a1-d724-45823dfff4c1"
      },
      "source": [
        "import numpy as np\n",
        "import matplotlib.pyplot as plt\n",
        "import torch\n",
        "import torch.nn as nn\n",
        "import torch.optim as optim\n",
        "import torch.nn.functional as F\n",
        "%matplotlib inline\n",
        "%config InlineBackend.figure_format='retina'\n",
        "print (\"PyTorch version:[%s].\"%(torch.__version__))\n",
        "device = torch.device('cuda:0' if torch.cuda.is_available() else 'cpu')\n",
        "print (\"device:[%s].\"%(device))"
      ],
      "execution_count": 1,
      "outputs": [
        {
          "output_type": "stream",
          "text": [
            "PyTorch version:[1.9.0+cu102].\n",
            "device:[cuda:0].\n"
          ],
          "name": "stdout"
        }
      ]
    },
    {
      "cell_type": "code",
      "metadata": {
        "colab": {
          "base_uri": "https://localhost:8080/"
        },
        "id": "Co1eeoFui9dN",
        "outputId": "4d068018-4168-4a3e-9a08-266cbed99dd9"
      },
      "source": [
        "from torchvision import datasets,transforms\n",
        "mnist_train = datasets.MNIST(root='./data/',train=True,transform=transforms.ToTensor(),download=True)\n",
        "mnist_test = datasets.MNIST(root='./data/',train=False,transform=transforms.ToTensor(),download=True)\n",
        "BATCH_SIZE =256\n",
        "train_iter = torch.utils.data.DataLoader(mnist_train,batch_size=BATCH_SIZE,shuffle=True,num_workers=1)\n",
        "test_iter = torch.utils.data.DataLoader(mnist_test,batch_size=BATCH_SIZE,shuffle=True,num_workers=1)\n",
        "print (\"Done.\")"
      ],
      "execution_count": 11,
      "outputs": [
        {
          "output_type": "stream",
          "text": [
            "Done.\n"
          ],
          "name": "stdout"
        }
      ]
    },
    {
      "cell_type": "code",
      "metadata": {
        "colab": {
          "base_uri": "https://localhost:8080/"
        },
        "id": "uHOWNMeOj2zC",
        "outputId": "2ec72710-5a94-4548-90a0-456384882987"
      },
      "source": [
        "class RecurrentNeuralNetworkClass(nn.Module):\n",
        "  def __init__(self,name='rnn',xdim=28,hdim=256,ydim=10,n_layer=3):\n",
        "    super(RecurrentNeuralNetworkClass,self).__init__()\n",
        "    self.name = name\n",
        "    self.xdim = xdim\n",
        "    self.hdim = hdim\n",
        "    self.ydim= ydim\n",
        "    self.n_layer = n_layer \n",
        "\n",
        "    self.rnn = nn.LSTM(input_size=self.xdim,hidden_size=self.hdim,num_layers=self.n_layer,batch_first=True)\n",
        "    self.lin = nn.Linear(self.hdim,self.ydim)\n",
        "\n",
        "  def forward(self,x):\n",
        "    # Set initial hidden and cell states\n",
        "    h0 = torch.zeros(self.n_layer,x.size(0),self.hdim).to(device)\n",
        "    c0 = torch.zeros(self.n_layer,x.size(0),self.hdim).to(device)\n",
        "\n",
        "    # RNN\n",
        "    rnn_out, (hn,cn) = self.rnn(x,(h0,c0))\n",
        "\n",
        "    out = self.lin(rnn_out[:,-1 :]).view([-1,self.ydim])\n",
        "    return out\n",
        "\n",
        "R = RecurrentNeuralNetworkClass(name='rnn',xdim=28,hdim=256,ydim=10,n_layer=2).to(device)\n",
        "loss = nn.CrossEntropyLoss()\n",
        "optm = optim.Adam(R.parameters(),lr=1e-3)\n",
        "print(\"Done\")\n"
      ],
      "execution_count": 12,
      "outputs": [
        {
          "output_type": "stream",
          "text": [
            "Done\n"
          ],
          "name": "stdout"
        }
      ]
    },
    {
      "cell_type": "code",
      "metadata": {
        "colab": {
          "base_uri": "https://localhost:8080/"
        },
        "id": "kdEHO27B6ndm",
        "outputId": "673b30df-38a1-4cb8-cb97-ca7dbfcbe563"
      },
      "source": [
        "np.set_printoptions(precision=3)\n",
        "torch.set_printoptions(precision=3)\n",
        "x_numpy = np.random.rand(2,10,28)\n",
        "x_torch = torch.from_numpy(x_numpy).float().to(device)\n",
        "rnn_out, (hn,cn) = R.rnn(x_torch)\n",
        "\n",
        "print(\"rnn_out:\", rnn_out.shape)\n",
        "print(\"Hidden State hn:\", hn.shape)\n",
        "print(\"Cell States cn:\", cn.shape)\n"
      ],
      "execution_count": 4,
      "outputs": [
        {
          "output_type": "stream",
          "text": [
            "rnn_out: torch.Size([2, 10, 256])\n",
            "Hidden State hn: torch.Size([2, 2, 256])\n",
            "Cell States cn: torch.Size([2, 2, 256])\n"
          ],
          "name": "stdout"
        }
      ]
    },
    {
      "cell_type": "markdown",
      "metadata": {
        "id": "vE5aaLKl7zfj"
      },
      "source": [
        ">**Check params**"
      ]
    },
    {
      "cell_type": "code",
      "metadata": {
        "colab": {
          "base_uri": "https://localhost:8080/"
        },
        "id": "aMMLAb1272UV",
        "outputId": "637d1992-5b43-4712-ffe5-95472906cd40"
      },
      "source": [
        "np.set_printoptions(precision=3)\n",
        "n_param = 0\n",
        "for p_idx, (param_name,param) in enumerate(R.named_parameters()):\n",
        "  if param.requires_grad:\n",
        "    param_numpy = param.detach().cpu().numpy()\n",
        "    n_param += len(param_numpy.reshape(-1))\n",
        "    print(\"[%d] name:[%s] shape:[%s]\"%(p_idx,param_name,param_numpy.shape))\n",
        "    print(\"    val:%s\"%(param_numpy.reshape(-1)[:5]))\n",
        "print(\"Total number of parameters:[%s]\"%(format(n_param,',d')))\n"
      ],
      "execution_count": 5,
      "outputs": [
        {
          "output_type": "stream",
          "text": [
            "[0] name:[rnn.weight_ih_l0] shape:[(1024, 28)]\n",
            "    val:[-0.06   0.026 -0.021  0.042 -0.005]\n",
            "[1] name:[rnn.weight_hh_l0] shape:[(1024, 256)]\n",
            "    val:[ 0.041  0.023 -0.021  0.03   0.043]\n",
            "[2] name:[rnn.bias_ih_l0] shape:[(1024,)]\n",
            "    val:[ 0.025 -0.061 -0.036 -0.036  0.018]\n",
            "[3] name:[rnn.bias_hh_l0] shape:[(1024,)]\n",
            "    val:[-0.031  0.047 -0.033 -0.035 -0.042]\n",
            "[4] name:[rnn.weight_ih_l1] shape:[(1024, 256)]\n",
            "    val:[ 0.059 -0.02  -0.06  -0.047  0.031]\n",
            "[5] name:[rnn.weight_hh_l1] shape:[(1024, 256)]\n",
            "    val:[-0.058  0.037 -0.035  0.018 -0.033]\n",
            "[6] name:[rnn.bias_ih_l1] shape:[(1024,)]\n",
            "    val:[ 0.012  0.009  0.016  0.03  -0.039]\n",
            "[7] name:[rnn.bias_hh_l1] shape:[(1024,)]\n",
            "    val:[ 0.023  0.025 -0.018 -0.05   0.055]\n",
            "[8] name:[lin.weight] shape:[(10, 256)]\n",
            "    val:[-0.002  0.046 -0.002  0.061 -0.058]\n",
            "[9] name:[lin.bias] shape:[(10,)]\n",
            "    val:[-0.051 -0.008  0.027  0.016 -0.055]\n",
            "Total number of parameters:[821,770]\n"
          ],
          "name": "stdout"
        }
      ]
    },
    {
      "cell_type": "markdown",
      "metadata": {
        "id": "-Wj21Rz396xa"
      },
      "source": [
        "> **Simple Forward Path**"
      ]
    },
    {
      "cell_type": "code",
      "metadata": {
        "colab": {
          "base_uri": "https://localhost:8080/"
        },
        "id": "L-MMFyoZ9-UA",
        "outputId": "b6834a67-3b9b-43dc-f82d-33e574c80b56"
      },
      "source": [
        "np.set_printoptions(precision=3)\n",
        "torch.set_printoptions(precision=3)\n",
        "x_numpy = np.random.rand(3,10,28) # [N x L x Q]\n",
        "x_torch = torch.from_numpy(x_numpy).float().to(device)\n",
        "y_torch = R.forward(x_torch)\n",
        "y_numpy = y_torch.detach().cpu().numpy()\n",
        "print(\"x_numpy %s\"%(x_numpy.shape,))\n",
        "print(\"y_numpy %s\"%(y_numpy.shape,))\n"
      ],
      "execution_count": 6,
      "outputs": [
        {
          "output_type": "stream",
          "text": [
            "x_numpy (3, 10, 28)\n",
            "y_numpy (2, 10)\n"
          ],
          "name": "stdout"
        }
      ]
    },
    {
      "cell_type": "markdown",
      "metadata": {
        "id": "7_a1qc3D-sGO"
      },
      "source": [
        ">**Evaluation Function**"
      ]
    },
    {
      "cell_type": "code",
      "metadata": {
        "colab": {
          "base_uri": "https://localhost:8080/"
        },
        "id": "WeQFeWFR-vZO",
        "outputId": "b95d0d40-3250-4846-88d7-18ad66603ec2"
      },
      "source": [
        "def func_eval(model,data_iter,device):\n",
        "  with torch.no_grad():\n",
        "    n_total,n_correct = 0, 0\n",
        "    model.eval()\n",
        "    for batch_in, batch_out in data_iter:\n",
        "      y_trgt = batch_out.to(device)\n",
        "      model_pred = model.forward(batch_in.view(-1,28,28).to(device))\n",
        "      _, y_pred = torch.max(model_pred,1)\n",
        "      n_correct += (y_pred==y_trgt).sum().item()\n",
        "      n_total += batch_in.size(0)\n",
        "    \n",
        "    val_accr = (n_correct/n_total)\n",
        "    model.train()\n",
        "  return val_accr\n",
        "print(\"Done\")"
      ],
      "execution_count": 7,
      "outputs": [
        {
          "output_type": "stream",
          "text": [
            "Done\n"
          ],
          "name": "stdout"
        }
      ]
    },
    {
      "cell_type": "markdown",
      "metadata": {
        "id": "G7kH9Hf5_wUC"
      },
      "source": [
        ">**Initial Evaluation**"
      ]
    },
    {
      "cell_type": "code",
      "metadata": {
        "colab": {
          "base_uri": "https://localhost:8080/"
        },
        "id": "B4VPxAHk_zl6",
        "outputId": "6b256056-4438-4221-b148-bf64ad17edc6"
      },
      "source": [
        "train_accr = func_eval(R, train_iter, device)\n",
        "test_accr = func_eval(R, test_iter, device)\n",
        "print(\"train_accr:[%.3f] test_accr:[%.3f]\"%(train_accr,test_accr))\n"
      ],
      "execution_count": 13,
      "outputs": [
        {
          "output_type": "stream",
          "text": [
            "train_accr:[0.097] test_accr:[0.098]\n"
          ],
          "name": "stdout"
        }
      ]
    },
    {
      "cell_type": "markdown",
      "metadata": {
        "id": "Ogcrih6RYsXm"
      },
      "source": [
        ">**Train**"
      ]
    },
    {
      "cell_type": "code",
      "metadata": {
        "colab": {
          "base_uri": "https://localhost:8080/"
        },
        "id": "gjFJ2i2zYypJ",
        "outputId": "c9430da5-a525-4da4-bdac-471f448808b5"
      },
      "source": [
        "print(\"Start training.\")\n",
        "R.train()\n",
        "EPOCHS, print_every = 10, 1\n",
        "for epoch in range(EPOCHS):\n",
        "  loss_val_sum = 0\n",
        "  for batch_in, batch_out in train_iter:\n",
        "    #Forward Path\n",
        "    y_pred = R.forward(batch_in.view(-1,28,28).to(device))\n",
        "    loss_out = loss(y_pred,batch_out.to(device))\n",
        "\n",
        "    optm.zero_grad()\n",
        "    loss_out.backward()\n",
        "    optm.step()\n",
        "    loss_val_sum += loss_out\n",
        "  loss_val_avg = loss_val_sum/len(train_iter)\n",
        "  # Print\n",
        "  if ((epoch%print_every)==0) or (epoch==(EPOCHS-1)):\n",
        "    train_accr = func_eval(R,train_iter,device)\n",
        "    test_accr = func_eval(R, test_iter, device)\n",
        "    print(\"epoch:[%d] loss:[%.3f] train_accr:[%.3f] test_accr:[%.3f]\"%(epoch, loss_val_avg, train_accr, test_accr))\n",
        "print(\"DONE\")"
      ],
      "execution_count": 15,
      "outputs": [
        {
          "output_type": "stream",
          "text": [
            "Start training.\n",
            "epoch:[0] loss:[0.144] train_accr:[0.963] test_accr:[0.961]\n",
            "epoch:[1] loss:[0.091] train_accr:[0.981] test_accr:[0.977]\n",
            "epoch:[2] loss:[0.063] train_accr:[0.984] test_accr:[0.981]\n",
            "epoch:[3] loss:[0.049] train_accr:[0.989] test_accr:[0.984]\n",
            "epoch:[4] loss:[0.038] train_accr:[0.990] test_accr:[0.985]\n",
            "epoch:[5] loss:[0.035] train_accr:[0.989] test_accr:[0.984]\n",
            "epoch:[6] loss:[0.029] train_accr:[0.992] test_accr:[0.987]\n",
            "epoch:[7] loss:[0.028] train_accr:[0.992] test_accr:[0.985]\n",
            "epoch:[8] loss:[0.022] train_accr:[0.990] test_accr:[0.985]\n",
            "epoch:[9] loss:[0.021] train_accr:[0.995] test_accr:[0.988]\n",
            "DONE\n"
          ],
          "name": "stdout"
        }
      ]
    },
    {
      "cell_type": "code",
      "metadata": {
        "colab": {
          "base_uri": "https://localhost:8080/",
          "height": 608
        },
        "id": "ugi76nRvab0W",
        "outputId": "dc68273f-44f6-445c-fc22-ba531a6caca9"
      },
      "source": [
        "n_sample = 25\n",
        "sample_indices = np.random.choice(len(mnist_test.targets),n_sample,replace=False)\n",
        "test_x = mnist_test.data[sample_indices]\n",
        "test_y = mnist_test.targets[sample_indices]\n",
        "with torch.no_grad():\n",
        "    R.eval() # to evaluation mode \n",
        "    y_pred = R.forward(test_x.view(-1,28,28).type(torch.float).to(device)/255.)\n",
        "y_pred = y_pred.argmax(axis=1)\n",
        "plt.figure(figsize=(10,10))\n",
        "for idx in range(n_sample):\n",
        "    plt.subplot(5, 5, idx+1)\n",
        "    plt.imshow(test_x[idx], cmap='gray')\n",
        "    plt.axis('off')\n",
        "    plt.title(\"Pred:%d, Label:%d\"%(y_pred[idx],test_y[idx]))\n",
        "plt.show()\n",
        "print (\"Done\")"
      ],
      "execution_count": 16,
      "outputs": [
        {
          "output_type": "display_data",
          "data": {
            "image/png": "[encoded data removed]",
            "text/plain": [
              "<Figure size 720x720 with 25 Axes>"
            ]
          },
          "metadata": {
            "tags": [],
            "image/png": {
              "width": 569,
              "height": 573
            },
            "needs_background": "light"
          }
        },
        {
          "output_type": "stream",
          "text": [
            "Done\n"
          ],
          "name": "stdout"
        }
      ]
    }
  ]
}